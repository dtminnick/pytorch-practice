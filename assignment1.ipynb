{
  "nbformat": 4,
  "nbformat_minor": 0,
  "metadata": {
    "colab": {
      "provenance": [],
      "authorship_tag": "ABX9TyMwzUGm7V8o1JXTP8Dlm+4q",
      "include_colab_link": true
    },
    "kernelspec": {
      "name": "python3",
      "display_name": "Python 3"
    },
    "language_info": {
      "name": "python"
    }
  },
  "cells": [
    {
      "cell_type": "markdown",
      "metadata": {
        "id": "view-in-github",
        "colab_type": "text"
      },
      "source": [
        "<a href=\"https://colab.research.google.com/github/dtminnick/pytorch-practice/blob/main/assignment1.ipynb\" target=\"_parent\"><img src=\"https://colab.research.google.com/assets/colab-badge.svg\" alt=\"Open In Colab\"/></a>"
      ]
    },
    {
      "cell_type": "markdown",
      "source": [
        "This notebook completes the requirements for Deep Learning Module 2"
      ],
      "metadata": {
        "id": "aKw3CV0YiZbv"
      }
    },
    {
      "cell_type": "markdown",
      "source": [
        "Import libraries."
      ],
      "metadata": {
        "id": "UHuxQpk3imHf"
      }
    },
    {
      "cell_type": "code",
      "source": [
        "import torch\n",
        "import torch.nn as nn\n",
        "import torch.optim as optim\n",
        "import torch.nn.functional as F\n",
        "from torch.utils.data import random_split\n",
        "from torch.utils.data import DataLoader\n",
        "from torchvision import datasets, transforms\n",
        "from torchvision.transforms.functional import to_pil_image\n",
        "from torchvision.utils import make_grid\n",
        "import numpy as np\n",
        "import pandas as pd\n",
        "from sklearn.metrics import confusion_matrix\n",
        "import matplotlib.pyplot as plt\n",
        "%matplotlib inline"
      ],
      "metadata": {
        "id": "WpEw0TDNiqLO"
      },
      "execution_count": 8,
      "outputs": []
    },
    {
      "cell_type": "markdown",
      "source": [
        "Load the MNIST data.\n",
        "\n",
        "Notes:\n",
        "\n",
        "**transforms.ToTensor()** converts the PIL image to a PyTorch tensor and scales pixel values from [0, 255] to [0.0, 1.0].\n",
        "\n",
        "**transforms.Normalize((0.5,), (0.5,))** then normalizes the tensor to have values in the range [-1.0, 1.0], assuming the original data is centered around 0.5.\n",
        "\n",
        "Normalization is applied during data loading."
      ],
      "metadata": {
        "id": "r5fQL4Evj2oE"
      }
    },
    {
      "cell_type": "code",
      "source": [
        "transform = transforms.Compose([transforms.ToTensor(), transforms.Normalize((0.5,), (0.5,))])\n",
        "\n",
        "# Get training data.\n",
        "\n",
        "training_data = datasets.MNIST(root = \"./data\",\n",
        "                            train = True,\n",
        "                            download = True,\n",
        "                            transform = transform)\n",
        "\n",
        "# Get testing data.\n",
        "\n",
        "testing_data = datasets.MNIST(root = \"./data\",\n",
        "                           train = False,\n",
        "                           download = True,\n",
        "                           transform = transform)"
      ],
      "metadata": {
        "colab": {
          "base_uri": "https://localhost:8080/"
        },
        "id": "yfwFYgcTj7sA",
        "outputId": "126e4792-d536-42dd-d707-8814da8d10ac"
      },
      "execution_count": 2,
      "outputs": [
        {
          "output_type": "stream",
          "name": "stderr",
          "text": [
            "100%|██████████| 9.91M/9.91M [00:01<00:00, 6.08MB/s]\n",
            "100%|██████████| 28.9k/28.9k [00:00<00:00, 160kB/s]\n",
            "100%|██████████| 1.65M/1.65M [00:01<00:00, 1.52MB/s]\n",
            "100%|██████████| 4.54k/4.54k [00:00<00:00, 8.74MB/s]\n"
          ]
        }
      ]
    },
    {
      "cell_type": "markdown",
      "source": [
        "Confirm download of training data."
      ],
      "metadata": {
        "id": "tVmkZpxMlSdo"
      }
    },
    {
      "cell_type": "code",
      "source": [
        "print(\"Training set size:\", len(training_data))"
      ],
      "metadata": {
        "colab": {
          "base_uri": "https://localhost:8080/"
        },
        "id": "ZCf5-rxWlW2p",
        "outputId": "9f0f9e30-2e08-44ca-b4de-2ece3b984810"
      },
      "execution_count": 15,
      "outputs": [
        {
          "output_type": "stream",
          "name": "stdout",
          "text": [
            "Training set size: 50000\n"
          ]
        }
      ]
    },
    {
      "cell_type": "markdown",
      "source": [
        "Confirm download of test data."
      ],
      "metadata": {
        "id": "YkpHtO71lZZs"
      }
    },
    {
      "cell_type": "code",
      "source": [
        "print(\"Testing set size:\", len(testing_data))"
      ],
      "metadata": {
        "colab": {
          "base_uri": "https://localhost:8080/"
        },
        "outputId": "c79eecbe-7e94-467d-fa02-ad97744ba927",
        "id": "x6SYUVlc--GF"
      },
      "execution_count": 16,
      "outputs": [
        {
          "output_type": "stream",
          "name": "stdout",
          "text": [
            "Testing set size: 10000\n"
          ]
        }
      ]
    },
    {
      "cell_type": "markdown",
      "source": [
        "Inspect a small image sample from the training set to confirm normalization was applied properly.\n",
        "\n",
        "Correct normalization will show pixel values roughly in the range -1.0 to 1.0 and a mean that hovers around 0.0, since I normalized at 0.5."
      ],
      "metadata": {
        "id": "xDOHSh1ypl2-"
      }
    },
    {
      "cell_type": "code",
      "source": [
        "for i in range(10):\n",
        "    img_tensor, label = training_data[i]\n",
        "    print(f\"Image {i} - Label: {label}\")\n",
        "    print(f\"  Min pixel value: {img_tensor.min().item():.4f}\")\n",
        "    print(f\"  Max pixel value: {img_tensor.max().item():.4f}\")\n",
        "    print(f\"  Mean pixel value: {img_tensor.mean().item():.4f}\")\n",
        "    print(\"-\" * 40)"
      ],
      "metadata": {
        "colab": {
          "base_uri": "https://localhost:8080/"
        },
        "id": "952vbGRmpr0l",
        "outputId": "180b258c-db99-431c-a47f-d34792db6b50"
      },
      "execution_count": 3,
      "outputs": [
        {
          "output_type": "stream",
          "name": "stdout",
          "text": [
            "Image 0 - Label: 5\n",
            "  Min pixel value: -1.0000\n",
            "  Max pixel value: 1.0000\n",
            "  Mean pixel value: -0.7246\n",
            "----------------------------------------\n",
            "Image 1 - Label: 0\n",
            "  Min pixel value: -1.0000\n",
            "  Max pixel value: 1.0000\n",
            "  Mean pixel value: -0.6889\n",
            "----------------------------------------\n",
            "Image 2 - Label: 4\n",
            "  Min pixel value: -1.0000\n",
            "  Max pixel value: 1.0000\n",
            "  Mean pixel value: -0.8055\n",
            "----------------------------------------\n",
            "Image 3 - Label: 1\n",
            "  Min pixel value: -1.0000\n",
            "  Max pixel value: 1.0000\n",
            "  Mean pixel value: -0.8286\n",
            "----------------------------------------\n",
            "Image 4 - Label: 9\n",
            "  Min pixel value: -1.0000\n",
            "  Max pixel value: 1.0000\n",
            "  Mean pixel value: -0.7678\n",
            "----------------------------------------\n",
            "Image 5 - Label: 2\n",
            "  Min pixel value: -1.0000\n",
            "  Max pixel value: 1.0000\n",
            "  Mean pixel value: -0.7039\n",
            "----------------------------------------\n",
            "Image 6 - Label: 1\n",
            "  Min pixel value: -1.0000\n",
            "  Max pixel value: 1.0000\n",
            "  Mean pixel value: -0.8235\n",
            "----------------------------------------\n",
            "Image 7 - Label: 3\n",
            "  Min pixel value: -1.0000\n",
            "  Max pixel value: 1.0000\n",
            "  Mean pixel value: -0.6412\n",
            "----------------------------------------\n",
            "Image 8 - Label: 1\n",
            "  Min pixel value: -1.0000\n",
            "  Max pixel value: 1.0000\n",
            "  Mean pixel value: -0.8912\n",
            "----------------------------------------\n",
            "Image 9 - Label: 4\n",
            "  Min pixel value: -1.0000\n",
            "  Max pixel value: 1.0000\n",
            "  Mean pixel value: -0.7809\n",
            "----------------------------------------\n"
          ]
        }
      ]
    },
    {
      "cell_type": "markdown",
      "source": [
        "Visualize the sample images alongside their pixel statistics."
      ],
      "metadata": {
        "id": "n4n6Xm1G7hJB"
      }
    },
    {
      "cell_type": "code",
      "source": [
        "num_samples = 5\n",
        "\n",
        "plt.figure(figsize=(12, 6))\n",
        "for i in range(num_samples):\n",
        "    img_tensor, label = training_data[i]\n",
        "\n",
        "    # Convert tensor to PIL image for display\n",
        "    img = to_pil_image(img_tensor)\n",
        "\n",
        "    # Plot image\n",
        "    plt.subplot(1, num_samples, i + 1)\n",
        "    plt.imshow(img)\n",
        "    plt.title(f\"Label: {label}\")\n",
        "    plt.axis('off')\n",
        "\n",
        "    # Print pixel stats\n",
        "    print(f\"Image {i}\")\n",
        "    print(f\"  Label: {label}\")\n",
        "    print(f\"  Min: {img_tensor.min().item():.4f}\")\n",
        "    print(f\"  Max: {img_tensor.max().item():.4f}\")\n",
        "    print(f\"  Mean: {img_tensor.mean().item():.4f}\")\n",
        "    print(\"-\" * 30)\n",
        "\n",
        "plt.tight_layout()\n",
        "plt.show()\n"
      ],
      "metadata": {
        "colab": {
          "base_uri": "https://localhost:8080/",
          "height": 802
        },
        "id": "0UeOFAsj7nxM",
        "outputId": "076d85e7-71ae-43c5-9544-2d17ce0db0dc"
      },
      "execution_count": 7,
      "outputs": [
        {
          "output_type": "stream",
          "name": "stdout",
          "text": [
            "Image 0\n",
            "  Label: 5\n",
            "  Min: -1.0000\n",
            "  Max: 1.0000\n",
            "  Mean: -0.7246\n",
            "------------------------------\n",
            "Image 1\n",
            "  Label: 0\n",
            "  Min: -1.0000\n",
            "  Max: 1.0000\n",
            "  Mean: -0.6889\n",
            "------------------------------\n",
            "Image 2\n",
            "  Label: 4\n",
            "  Min: -1.0000\n",
            "  Max: 1.0000\n",
            "  Mean: -0.8055\n",
            "------------------------------\n",
            "Image 3\n",
            "  Label: 1\n",
            "  Min: -1.0000\n",
            "  Max: 1.0000\n",
            "  Mean: -0.8286\n",
            "------------------------------\n",
            "Image 4\n",
            "  Label: 9\n",
            "  Min: -1.0000\n",
            "  Max: 1.0000\n",
            "  Mean: -0.7678\n",
            "------------------------------\n"
          ]
        },
        {
          "output_type": "display_data",
          "data": {
            "text/plain": [
              "<Figure size 1200x600 with 5 Axes>"
            ],
            "image/png": "[encoded data removed]"
          },
          "metadata": {}
        }
      ]
    },
    {
      "cell_type": "markdown",
      "source": [
        "Split the data into training, validation and testing sets.\n",
        "\n",
        "A testing set already exists; randomly take 10,000 images from the training set and reserve them as a validation set."
      ],
      "metadata": {
        "id": "hfvRWiqCo1yq"
      }
    },
    {
      "cell_type": "code",
      "source": [
        "train_size = 50000\n",
        "val_size = 10000\n",
        "\n",
        "training_data, validation_data = random_split(training_data, [train_size, val_size])"
      ],
      "metadata": {
        "id": "78ZZyILP8j8I"
      },
      "execution_count": 10,
      "outputs": []
    },
    {
      "cell_type": "markdown",
      "source": [
        "Confirm splits."
      ],
      "metadata": {
        "id": "ejkihwCZ84Ao"
      }
    },
    {
      "cell_type": "code",
      "source": [
        "print(\"Training set size:\", len(training_data))\n",
        "print(\"Validation set size:\", len(validation_data))\n",
        "print(\"Testing set size:\", len(testing_data))"
      ],
      "metadata": {
        "colab": {
          "base_uri": "https://localhost:8080/"
        },
        "id": "Bvw791Sd88Bw",
        "outputId": "e687a9cf-0d4c-4aa7-fa8b-e8e6100b75eb"
      },
      "execution_count": 13,
      "outputs": [
        {
          "output_type": "stream",
          "name": "stdout",
          "text": [
            "Training set size: 50000\n",
            "Validation set size: 10000\n",
            "Testing set size: 10000\n"
          ]
        }
      ]
    },
    {
      "cell_type": "markdown",
      "source": [
        "Build a CNN network with convolution layers, pooling layers to classify the number."
      ],
      "metadata": {
        "id": "tw4BJSKL9jQ0"
      }
    },
    {
      "cell_type": "markdown",
      "source": [
        "Start by setting a batch size.\n",
        "\n",
        "Notes on batch size:\n",
        "\n",
        "Batch size determines how many samples from the dataset are processed together in one forward/backward pass during training.\n",
        "\n",
        "**Gradient Estimation**\n",
        "\n",
        "A small batch gives a noisy but fast estimate of the gradient.  And a large batch gives a smoother, more stable gradient but requires more memory to compute.\n",
        "\n",
        "**Training Speed**\n",
        "\n",
        "Smaller batches may converge faster in early epochs but can be less stable.  Larger batches can leverage parallelism, speeding up training.\n",
        "\n",
        "**Generalization**\n",
        "\n",
        "Smaller batches often introduce more stochasticity, which can help escape local minima and improve generalization.  Larger batches may overfit if not regularized properly.\n",
        "\n",
        "Start with a batch size of ten and then monitor loss curve stability, validation accuracy and training time per epoch.  If seeing erratic loss or poor generalization, reduce batch size.  If training is slow and memory allows, increase it."
      ],
      "metadata": {
        "id": "rRNuYNi5_Zzg"
      }
    },
    {
      "cell_type": "code",
      "source": [
        "batch_size = 10\n",
        "\n",
        "training_loader = DataLoader(training_data, batch_size=batch_size, shuffle=True)\n",
        "validation_loader = DataLoader(validation_data, batch_size=batch_size, shuffle=False)\n",
        "testing_loader = DataLoader(testing_data, batch_size=batch_size, shuffle=False)"
      ],
      "metadata": {
        "id": "TeuRLS0S_F9u"
      },
      "execution_count": 17,
      "outputs": []
    },
    {
      "cell_type": "markdown",
      "source": [
        "Define two convolutional layers.\n",
        "\n",
        "One layer that transforms a single-channel image into six feature maps, each capturing different spatial patterns.\n",
        "\n",
        "Then a second layer that takes the six feature maps from the first layer and extracts deeper, more abstract features into 16 maps.\n",
        "\n",
        "Note on kernel size and stride parameters:\n",
        "\n",
        "**Kernel Size**\n",
        "\n",
        "The kernel is a small matrix that slides over the input image to extract features.  Kernel size defines the dimensions of this matrix, typically 3x3 or 5x5.  It controls the receptive field, i.e. how much of the input the filter sees at once.\n",
        "\n",
        "**Stride**\n",
        "\n",
        "Stride controls how far the kernel moves with each step.  A stride of 1 means the kernel moves one pixel at a time.  A stride of 2 skips every other pixel, reducing output size and increasing efficiency.\n",
        "\n",
        "Varying kernel size and stride can influence the CNN’s loss and accuracy. These parameters shape how the model sees and processes spatial patterns, which directly affects feature extraction and learning dynamics.\n",
        "\n",
        "Start with a kernel size of 3 and stride of 1."
      ],
      "metadata": {
        "id": "DK0zbPN7BaFX"
      }
    },
    {
      "cell_type": "code",
      "source": [
        "conv1 = nn.Conv2d(in_channels = 1,\n",
        "                  out_channels = 6,\n",
        "                  kernel_size = 3,\n",
        "                  stride = 1)\n",
        "\n",
        "conv2 = nn.Conv2d(in_channels = 6,\n",
        "                  out_channels = 16,\n",
        "                  kernel_size=3,\n",
        "                  stride = 1)"
      ],
      "metadata": {
        "id": "Y3Q8CINHBcgK"
      },
      "execution_count": null,
      "outputs": []
    },
    {
      "cell_type": "markdown",
      "source": [
        "Plot the training loss and validation loss as a function of epochs."
      ],
      "metadata": {
        "id": "KCdoHPeh9mdx"
      }
    },
    {
      "cell_type": "markdown",
      "source": [
        "Plot the both training accuracy and validation accuracy as a function of epochs."
      ],
      "metadata": {
        "id": "RtB0CjgH9q74"
      }
    },
    {
      "cell_type": "markdown",
      "source": [
        "Print the testing accuracy."
      ],
      "metadata": {
        "id": "5cegijD19vim"
      }
    }
  ]
}