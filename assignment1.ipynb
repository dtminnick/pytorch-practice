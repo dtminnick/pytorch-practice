{
  "nbformat": 4,
  "nbformat_minor": 0,
  "metadata": {
    "colab": {
      "provenance": [],
      "authorship_tag": "ABX9TyNphd7Wyx5HIpftLF7jxos1",
      "include_colab_link": true
    },
    "kernelspec": {
      "name": "python3",
      "display_name": "Python 3"
    },
    "language_info": {
      "name": "python"
    }
  },
  "cells": [
    {
      "cell_type": "markdown",
      "metadata": {
        "id": "view-in-github",
        "colab_type": "text"
      },
      "source": [
        "<a href=\"https://colab.research.google.com/github/dtminnick/pytorch-practice/blob/main/assignment1.ipynb\" target=\"_parent\"><img src=\"https://colab.research.google.com/assets/colab-badge.svg\" alt=\"Open In Colab\"/></a>"
      ]
    },
    {
      "cell_type": "markdown",
      "source": [
        "**Deep Learning - Manually Graded Assignment 1**\n",
        "\n",
        "Donnie Minnick\n",
        "\n",
        "October 2025"
      ],
      "metadata": {
        "id": "aKw3CV0YiZbv"
      }
    },
    {
      "cell_type": "markdown",
      "source": [
        "# Import Libraries"
      ],
      "metadata": {
        "id": "UHuxQpk3imHf"
      }
    },
    {
      "cell_type": "code",
      "source": [
        "import torch\n",
        "import torch.nn as nn\n",
        "import torch.optim as optim\n",
        "import torch.nn.functional as F\n",
        "from torch.utils.data import random_split\n",
        "from torch.utils.data import DataLoader\n",
        "from torchvision import datasets, transforms\n",
        "from torchvision.transforms.functional import to_pil_image\n",
        "from torchvision.utils import make_grid\n",
        "import numpy as np\n",
        "import pandas as pd\n",
        "from sklearn.metrics import confusion_matrix\n",
        "import matplotlib.pyplot as plt\n",
        "%matplotlib inline"
      ],
      "metadata": {
        "id": "WpEw0TDNiqLO"
      },
      "execution_count": 1,
      "outputs": []
    },
    {
      "cell_type": "markdown",
      "source": [
        "# Load and Normalize the MNIST Data\n",
        "\n",
        "Use **transforms.ToTensor()** to convert the PIL images to PyTorch tensors; scale pixel values from [0, 255] to [0.0, 1.0].\n",
        "\n",
        "Use **transforms.Normalize((0.5,), (0.5,))** to normalize the tensors to have values in the range [-1.0, 1.0], assuming the original data is centered around 0.5.\n",
        "\n",
        "Apply normalization during data load."
      ],
      "metadata": {
        "id": "r5fQL4Evj2oE"
      }
    },
    {
      "cell_type": "code",
      "source": [
        "transform = transforms.Compose([transforms.ToTensor(),\n",
        "                                transforms.Normalize((0.5,),\n",
        "                                 (0.5,))])\n",
        "\n",
        "# Get training data.\n",
        "\n",
        "training_data = datasets.MNIST(root = \"./data\",\n",
        "                            train = True,\n",
        "                            download = True,\n",
        "                            transform = transform)\n",
        "\n",
        "# Get testing data.\n",
        "\n",
        "testing_data = datasets.MNIST(root = \"./data\",\n",
        "                           train = False,\n",
        "                           download = True,\n",
        "                           transform = transform)"
      ],
      "metadata": {
        "colab": {
          "base_uri": "https://localhost:8080/"
        },
        "id": "yfwFYgcTj7sA",
        "outputId": "7c2647e1-45f9-4d75-c7f5-6df00565e58b"
      },
      "execution_count": 2,
      "outputs": [
        {
          "output_type": "stream",
          "name": "stderr",
          "text": [
            "100%|██████████| 9.91M/9.91M [00:00<00:00, 18.5MB/s]\n",
            "100%|██████████| 28.9k/28.9k [00:00<00:00, 507kB/s]\n",
            "100%|██████████| 1.65M/1.65M [00:00<00:00, 4.60MB/s]\n",
            "100%|██████████| 4.54k/4.54k [00:00<00:00, 7.84MB/s]\n"
          ]
        }
      ]
    },
    {
      "cell_type": "markdown",
      "source": [
        "Confirm download of training data."
      ],
      "metadata": {
        "id": "tVmkZpxMlSdo"
      }
    },
    {
      "cell_type": "code",
      "source": [
        "print(\"Training set size:\", len(training_data))"
      ],
      "metadata": {
        "colab": {
          "base_uri": "https://localhost:8080/"
        },
        "id": "ZCf5-rxWlW2p",
        "outputId": "6e577bd2-2ebd-499c-9272-ca52ae781241"
      },
      "execution_count": 3,
      "outputs": [
        {
          "output_type": "stream",
          "name": "stdout",
          "text": [
            "Training set size: 60000\n"
          ]
        }
      ]
    },
    {
      "cell_type": "markdown",
      "source": [
        "Confirm download of test data."
      ],
      "metadata": {
        "id": "YkpHtO71lZZs"
      }
    },
    {
      "cell_type": "code",
      "source": [
        "print(\"Testing set size:\", len(testing_data))"
      ],
      "metadata": {
        "colab": {
          "base_uri": "https://localhost:8080/"
        },
        "outputId": "df843da1-5df8-47e1-f969-ded8434d0848",
        "id": "x6SYUVlc--GF"
      },
      "execution_count": 4,
      "outputs": [
        {
          "output_type": "stream",
          "name": "stdout",
          "text": [
            "Testing set size: 10000\n"
          ]
        }
      ]
    },
    {
      "cell_type": "markdown",
      "source": [
        "# Split Data\n",
        "\n",
        "Split the data into training, validation and testing sets.\n",
        "\n",
        "A testing set already exists; randomly take 10,000 images from the training set and reserve them as a validation set."
      ],
      "metadata": {
        "id": "hfvRWiqCo1yq"
      }
    },
    {
      "cell_type": "code",
      "source": [
        "train_size = 50000\n",
        "val_size = 10000\n",
        "\n",
        "training_data, validation_data = random_split(training_data, [train_size, val_size])"
      ],
      "metadata": {
        "id": "78ZZyILP8j8I"
      },
      "execution_count": 5,
      "outputs": []
    },
    {
      "cell_type": "markdown",
      "source": [
        "Confirm splits."
      ],
      "metadata": {
        "id": "ejkihwCZ84Ao"
      }
    },
    {
      "cell_type": "code",
      "source": [
        "print(\"Training set size:\", len(training_data))\n",
        "print(\"Validation set size:\", len(validation_data))\n",
        "print(\"Testing set size:\", len(testing_data))"
      ],
      "metadata": {
        "colab": {
          "base_uri": "https://localhost:8080/"
        },
        "id": "Bvw791Sd88Bw",
        "outputId": "2c7292ad-e110-48ff-def2-df3554a2d60f"
      },
      "execution_count": 6,
      "outputs": [
        {
          "output_type": "stream",
          "name": "stdout",
          "text": [
            "Training set size: 50000\n",
            "Validation set size: 10000\n",
            "Testing set size: 10000\n"
          ]
        }
      ]
    },
    {
      "cell_type": "markdown",
      "source": [
        "# Build a CNN network\n",
        "\n",
        "Build a CNN network with convolution layers, pooling layers to classify the number."
      ],
      "metadata": {
        "id": "ccakXu5p0fB6"
      }
    },
    {
      "cell_type": "markdown",
      "source": [
        "## Setup Data Loaders\n",
        "\n",
        "Batch training and validation data with batch_size = 64. Shuffle training data for generalization; validation data is not shuffled, ensuring consistent evaluation."
      ],
      "metadata": {
        "id": "70-rTuKP1mmF"
      }
    },
    {
      "cell_type": "code",
      "source": [
        "batch_size = 64\n",
        "\n",
        "training_loader = DataLoader(training_data, batch_size = batch_size, shuffle = True)\n",
        "\n",
        "validation_loader = DataLoader(validation_data, batch_size = batch_size, shuffle = False)"
      ],
      "metadata": {
        "id": "1hqDDEwB1sTH"
      },
      "execution_count": 7,
      "outputs": []
    },
    {
      "cell_type": "markdown",
      "source": [
        "## Create Model Class\n",
        "\n"
      ],
      "metadata": {
        "id": "oN2AsuCk3VvI"
      }
    },
    {
      "cell_type": "code",
      "source": [
        "class ConvolutionalNetwork(nn.Module):\n",
        "    def __init__(self, kernel_size = 3, stride = 1):\n",
        "        super().__init__()\n",
        "        self.conv1 = nn.Conv2d(1, 6, kernel_size, stride)\n",
        "        self.conv2 = nn.Conv2d(6, 16, kernel_size, stride)\n",
        "\n",
        "        # Compute the flattened size dynamically later if needed\n",
        "        self.fc1 = nn.Linear(16*4*4, 120)\n",
        "        self.fc2 = nn.Linear(120, 84)\n",
        "        self.fc3 = nn.Linear(84, 10)\n",
        "\n",
        "    def forward(self, x):\n",
        "        x = F.relu(self.conv1(x))\n",
        "        x = F.max_pool2d(x, 2, 2)\n",
        "        x = F.relu(self.conv2(x))\n",
        "        x = F.max_pool2d(x, 2, 2)\n",
        "\n",
        "        x = x.view(x.size(0), -1)  # Dynamic flattening based on batch size\n",
        "        x = F.relu(self.fc1(x))\n",
        "        x = F.relu(self.fc2(x))\n",
        "        x = self.fc3(x)\n",
        "        return F.log_softmax(x, dim = 1)"
      ],
      "metadata": {
        "id": "5kd314ZQ3oO4"
      },
      "execution_count": 18,
      "outputs": []
    },
    {
      "cell_type": "markdown",
      "source": [
        "# Create Model Instance\n",
        "\n",
        "Set seed and create model instance."
      ],
      "metadata": {
        "id": "iTvh_Zk544ea"
      }
    },
    {
      "cell_type": "code",
      "source": [
        "torch.manual_seed(91210)\n",
        "\n",
        "model = ConvolutionalNetwork(kernel_size = 5, stride = 1)\n",
        "\n",
        "model"
      ],
      "metadata": {
        "colab": {
          "base_uri": "https://localhost:8080/"
        },
        "id": "Q6HKIdaD482X",
        "outputId": "ecfb712a-d994-4fb3-b9ab-dae9836d0dd1"
      },
      "execution_count": 19,
      "outputs": [
        {
          "output_type": "execute_result",
          "data": {
            "text/plain": [
              "ConvolutionalNetwork(\n",
              "  (conv1): Conv2d(1, 6, kernel_size=(5, 5), stride=(1, 1))\n",
              "  (conv2): Conv2d(6, 16, kernel_size=(5, 5), stride=(1, 1))\n",
              "  (fc1): Linear(in_features=256, out_features=120, bias=True)\n",
              "  (fc2): Linear(in_features=120, out_features=84, bias=True)\n",
              "  (fc3): Linear(in_features=84, out_features=10, bias=True)\n",
              ")"
            ]
          },
          "metadata": {},
          "execution_count": 19
        }
      ]
    },
    {
      "cell_type": "markdown",
      "source": [
        "## Create Feature Map Tracer\n",
        "\n",
        "Confirm output dimensions for any kernel/stride combo, auto-compute fc1 input size, and log shape evolution for interpretability."
      ],
      "metadata": {
        "id": "0vP9aXkrAHrR"
      }
    },
    {
      "cell_type": "code",
      "source": [
        "def trace_feature_map(conv1, conv2, sample):\n",
        "    x = sample.view(1, 1, 28, 28)  # Reshape to [batch, channel, height, width]\n",
        "    print(f\"Input shape: {x.shape}\")\n",
        "\n",
        "    x = F.relu(conv1(x))\n",
        "    print(f\"After conv1: {x.shape}\")\n",
        "\n",
        "    x = F.max_pool2d(x, 2, 2)\n",
        "    print(f\"After pool1: {x.shape}\")\n",
        "\n",
        "    x = F.relu(conv2(x))\n",
        "    print(f\"After conv2: {x.shape}\")\n",
        "\n",
        "    x = F.max_pool2d(x, 2, 2)\n",
        "    print(f\"After pool2: {x.shape}\")\n",
        "\n",
        "    flattened_size = x.view(1, -1).size(1)\n",
        "    print(f\"Flattened size: {flattened_size}\")\n",
        "\n",
        "    return flattened_size"
      ],
      "metadata": {
        "id": "rGTHbsvqAKs_"
      },
      "execution_count": 13,
      "outputs": []
    },
    {
      "cell_type": "markdown",
      "source": [
        "## Trace Shape Evolution\n",
        "\n"
      ],
      "metadata": {
        "id": "gM-TTnvbATw7"
      }
    },
    {
      "cell_type": "code",
      "source": [
        "# Grab one sample\n",
        "X_sample, _ = next(iter(training_loader))\n",
        "sample = X_sample[0]  # Single image from batch\n",
        "\n",
        "# Trace shape evolution\n",
        "flattened_size = trace_feature_map(model.conv1, model.conv2, sample)\n"
      ],
      "metadata": {
        "colab": {
          "base_uri": "https://localhost:8080/"
        },
        "id": "jgzz8ZmvAWAJ",
        "outputId": "9d38c126-c45d-46d3-ba45-b875702de0f8"
      },
      "execution_count": 14,
      "outputs": [
        {
          "output_type": "stream",
          "name": "stdout",
          "text": [
            "Input shape: torch.Size([1, 1, 28, 28])\n",
            "After conv1: torch.Size([1, 6, 24, 24])\n",
            "After pool1: torch.Size([1, 6, 12, 12])\n",
            "After conv2: torch.Size([1, 16, 8, 8])\n",
            "After pool2: torch.Size([1, 16, 4, 4])\n",
            "Flattened size: 256\n"
          ]
        }
      ]
    },
    {
      "cell_type": "markdown",
      "source": [
        "## Loss Function Optimizer\n",
        "\n",
        "Set up the loss function and optimizer for training the neural network.  Use a learning rate of 0.001."
      ],
      "metadata": {
        "id": "rLIETVDn5cAE"
      }
    },
    {
      "cell_type": "code",
      "source": [
        "criterion = nn.CrossEntropyLoss()\n",
        "\n",
        "optimizer = torch.optim.Adam(model.parameters(), lr = 0.001)"
      ],
      "metadata": {
        "id": "2g695Mce5e-6"
      },
      "execution_count": 20,
      "outputs": []
    },
    {
      "cell_type": "markdown",
      "source": [
        "## Train Model\n",
        "\n"
      ],
      "metadata": {
        "id": "m0NHvM9D6P_G"
      }
    },
    {
      "cell_type": "code",
      "source": [
        "import time\n",
        "start_time = time.time()\n",
        "\n",
        "epochs = 5\n",
        "training_losses = []\n",
        "testing_losses = []\n",
        "training_correct = []\n",
        "testing_correct = []\n",
        "\n",
        "# For loop of epochs\n",
        "\n",
        "for i in range(epochs):\n",
        "  trn_corr = 0\n",
        "  tst_corr = 0\n",
        "\n",
        "  # Train\n",
        "\n",
        "  for b, (X_train, y_train) in enumerate(training_loader):\n",
        "    b += 1\n",
        "    y_pred = model(X_train)\n",
        "    loss = criterion(y_pred, y_train)\n",
        "\n",
        "    predicted = torch.max(y_pred.data, 1)[1]\n",
        "    batch_corr = (predicted == y_train).sum()\n",
        "    trn_corr += batch_corr\n",
        "\n",
        "    optimizer.zero_grad()\n",
        "    loss.backward()\n",
        "    optimizer.step()\n",
        "\n",
        "    if b % 600 == 0:\n",
        "      print(f'epoch: {i}  batch: {b}  loss: {loss.item()}')\n",
        "\n",
        "  training_losses.append(loss)\n",
        "  training_correct.append(trn_corr)\n",
        "\n",
        "  # Test\n",
        "\n",
        "  with torch.no_grad():\n",
        "    for b, (X_test, y_test) in enumerate(validation_loader):\n",
        "      y_val = model(X_test)\n",
        "      predicted = torch.max(y_val.data, 1)[1]\n",
        "      tst_corr += (predicted == y_test).sum()\n",
        "\n",
        "  loss = criterion(y_val, y_test)\n",
        "  testing_losses.append(loss)\n",
        "  testing_correct.append(tst_corr)\n",
        "\n",
        "current_time = time.time()\n",
        "total_time = current_time - start_time\n",
        "print(f\"Training took: {total_time / 60} minutes\")"
      ],
      "metadata": {
        "colab": {
          "base_uri": "https://localhost:8080/"
        },
        "id": "ytjQdp9a6RyL",
        "outputId": "f60dcaf2-b746-4e17-c7bd-db3ff438c612"
      },
      "execution_count": 21,
      "outputs": [
        {
          "output_type": "stream",
          "name": "stdout",
          "text": [
            "epoch: 0  batch: 600  loss: 0.3141050636768341\n",
            "epoch: 1  batch: 600  loss: 0.02188262715935707\n",
            "epoch: 2  batch: 600  loss: 0.24001635611057281\n",
            "epoch: 3  batch: 600  loss: 0.03841584548354149\n",
            "epoch: 4  batch: 600  loss: 0.002837756648659706\n",
            "Training took: 1.9777937571207682 minutes\n"
          ]
        }
      ]
    },
    {
      "cell_type": "markdown",
      "source": [
        "# Plot Training and Validation Loss\n",
        "\n",
        "Plot the training loss and validation loss as a function of epochs."
      ],
      "metadata": {
        "id": "qO6kkbfM0m96"
      }
    },
    {
      "cell_type": "code",
      "source": [
        "plt.plot(training_losses, label = \"Training Loss\")\n",
        "plt.plot(testing_losses, label = \"Testing Loss\")\n",
        "plt.title(\"Training vs Testing Loss\")\n",
        "plt.legend()"
      ],
      "metadata": {
        "colab": {
          "base_uri": "https://localhost:8080/",
          "height": 469
        },
        "id": "AqHDXdplEoXB",
        "outputId": "4cd82316-52fc-4cc9-d8a2-fe3cbbbb9d9b"
      },
      "execution_count": 24,
      "outputs": [
        {
          "output_type": "execute_result",
          "data": {
            "text/plain": [
              "<matplotlib.legend.Legend at 0x7fc809a284a0>"
            ]
          },
          "metadata": {},
          "execution_count": 24
        },
        {
          "output_type": "display_data",
          "data": {
            "text/plain": [
              "<Figure size 640x480 with 1 Axes>"
            ],
            "image/png": "[encoded data removed]"
          },
          "metadata": {}
        }
      ]
    },
    {
      "cell_type": "markdown",
      "source": [
        "# Plot Training and Validation Accuracy\n",
        "\n",
        "Plot the both training accuracy and validation accuracy as a function of epochs."
      ],
      "metadata": {
        "id": "eocvJKyR0wF2"
      }
    },
    {
      "cell_type": "markdown",
      "source": [
        "# Show Testing Accuracy\n",
        "\n",
        "Print the testing accuracy."
      ],
      "metadata": {
        "id": "h9NlDIWy092M"
      }
    },
    {
      "cell_type": "markdown",
      "source": [
        "# Implement Sweep Strategy\n",
        "\n",
        "I will systematically vary key CNN hyperparameters — kernel size, stride, batch size, and learning rate — to assess their impact on training loss, validation accuracy, and feature map evolution. Each configuration is trained and evaluated using consistent data splits, with results logged for comparative analysis. This modular sweep enables principled experimentation, helping identify optimal architectural and training settings for improved model performance and stakeholder clarity."
      ],
      "metadata": {
        "id": "Qt_cWpzh7O1M"
      }
    },
    {
      "cell_type": "code",
      "source": [
        "sweep_grid = {\"kernel_size\": [3, 5],\n",
        "              \"stride\": [1, 2],\n",
        "              \"batch_size\": [32, 64],\n",
        "              \"learning_rate\": [0.001, 0.01]}"
      ],
      "metadata": {
        "id": "bG9tUdPL7l_x"
      },
      "execution_count": null,
      "outputs": []
    },
    {
      "cell_type": "markdown",
      "source": [
        "The sweep grid explores four key hyperparameters that influence CNN performance:\n",
        "\n",
        "**Kernel Size: [3, 5]**\n",
        "\n",
        "Tests the impact of local vs broader spatial feature extraction.\n",
        "\n",
        "**Stride: [1, 2]**\n",
        "\n",
        "Assesses how spatial resolution and downsampling affect learning.\n",
        "\n",
        "**Batch Size: [32, 64, 128]**\n",
        "\n",
        "Evaluates gradient stability, generalization, and training efficiency.\n",
        "\n",
        "**Learning Rate: [0.001, 0.01]**\n",
        "\n",
        "Measures convergence speed and sensitivity to weight updates.\n",
        "\n",
        "This grid yields 24 unique configurations (2 × 2 × 3 × 2), each trained and evaluated to compare loss, accuracy, and feature map evolution. The goal is to identify optimal combinations for model performance and stakeholder clarity."
      ],
      "metadata": {
        "id": "TMsyx63D7-ns"
      }
    },
    {
      "cell_type": "markdown",
      "source": [
        "# Model Builder\n",
        "\n",
        "Construct a CNN with specified kernel and stride. Modular for swapping architectures."
      ],
      "metadata": {
        "id": "tw4BJSKL9jQ0"
      }
    },
    {
      "cell_type": "code",
      "source": [
        "def build_model(kernel_size, stride):\n",
        "    feature_extractor = nn.Sequential(\n",
        "        nn.Conv2d(1, 6, kernel_size=kernel_size, stride=stride),\n",
        "        nn.ReLU(),\n",
        "        nn.Conv2d(6, 16, kernel_size=kernel_size, stride=stride),\n",
        "        nn.ReLU(),\n",
        "        nn.Flatten()\n",
        "    )\n",
        "\n",
        "    flattened_size = compute_flattened_size(feature_extractor)\n",
        "\n",
        "    return nn.Sequential(\n",
        "        feature_extractor,\n",
        "        nn.Linear(flattened_size, 10),\n",
        "        nn.LogSoftmax(dim=1)\n",
        "    )\n"
      ],
      "metadata": {
        "id": "TeuRLS0S_F9u"
      },
      "execution_count": null,
      "outputs": []
    },
    {
      "cell_type": "markdown",
      "source": [
        "# DataLoader Factory\n",
        "\n",
        "Create DataLoaders with consistent batching. Keeps data handling clean and configurable."
      ],
      "metadata": {
        "id": "DK0zbPN7BaFX"
      }
    },
    {
      "cell_type": "code",
      "source": [
        "def create_dataloaders(train_data, val_data, batch_size):\n",
        "    training_loader = DataLoader(training_data, batch_size = batch_size, shuffle = True)\n",
        "    validation_loader = DataLoader(validation_data, batch_size = batch_size, shuffle = False)\n",
        "    return training_loader, validation_loader"
      ],
      "metadata": {
        "id": "Y3Q8CINHBcgK"
      },
      "execution_count": null,
      "outputs": []
    },
    {
      "cell_type": "markdown",
      "source": [
        "# Compute Flattened Size\n",
        "\n",
        "Compute the correct input size for Linear(...):"
      ],
      "metadata": {
        "id": "J76HQKjeAm9Z"
      }
    },
    {
      "cell_type": "code",
      "source": [
        "def compute_flattened_size(model, input_shape = (1, 28, 28)):\n",
        "    with torch.no_grad():\n",
        "        dummy = torch.zeros(1, *input_shape)  # batch_size=1, channels=1, height=28, width=28\n",
        "        output = model(dummy)\n",
        "        return output.view(1, -1).shape[1]"
      ],
      "metadata": {
        "id": "TKXYUEJgAp7p"
      },
      "execution_count": null,
      "outputs": []
    },
    {
      "cell_type": "markdown",
      "source": [
        "# Training and Evaluation\n",
        "\n",
        "Train the model and return final loss and validation accuracy. Modular for reuse across sweeps."
      ],
      "metadata": {
        "id": "GDMSEI3U92pP"
      }
    },
    {
      "cell_type": "code",
      "source": [
        "def train_model(model, training_loader, validation_loader, lr, device = 'cpu', epochs = 3):\n",
        "    model.to(device)\n",
        "    optimizer = optim.Adam(model.parameters(), lr = lr)\n",
        "    criterion = nn.NLLLoss()\n",
        "\n",
        "    for epoch in range(epochs):\n",
        "        model.train()\n",
        "        for images, labels in training_loader:\n",
        "            images, labels = images.to(device), labels.to(device)\n",
        "            optimizer.zero_grad()\n",
        "            output = model(images)\n",
        "            loss = criterion(output, labels)\n",
        "            loss.backward()\n",
        "            optimizer.step()\n",
        "\n",
        "    model.eval()\n",
        "    correct, total = 0, 0\n",
        "\n",
        "    with torch.no_grad():\n",
        "        for images, labels in validation_loader:\n",
        "            images, labels = images.to(device), labels.to(device)\n",
        "            output = model(images)\n",
        "            pred = output.argmax(dim=1)\n",
        "            correct += (pred == labels).sum().item()\n",
        "            total += labels.size(0)\n",
        "\n",
        "    val_accuracy = 100 * correct / total\n",
        "    return loss.item(), val_accuracy"
      ],
      "metadata": {
        "id": "N_JMERar96PG"
      },
      "execution_count": null,
      "outputs": []
    },
    {
      "cell_type": "markdown",
      "source": [
        "# Sweep Runner\n",
        "\n",
        "Execute the full sweep across all parameter combinations. Log results for analysis."
      ],
      "metadata": {
        "id": "jdKahrPK-YRo"
      }
    },
    {
      "cell_type": "code",
      "source": [
        "def run_sweep(training_data, validation_data):\n",
        "\n",
        "    sweep_grid = {\n",
        "        \"kernel_size\": [3, 5],\n",
        "        \"stride\": [1, 2],\n",
        "        \"batch_size\": [32, 64],\n",
        "        \"learning_rate\": [0.001, 0.01]\n",
        "    }\n",
        "\n",
        "    results = []\n",
        "\n",
        "    for k in sweep_grid[\"kernel_size\"]:\n",
        "        for s in sweep_grid[\"stride\"]:\n",
        "            for b in sweep_grid[\"batch_size\"]:\n",
        "                for lr in sweep_grid[\"learning_rate\"]:\n",
        "                    print(f\"Running: kernel={k}, stride={s}, batch={b}, lr={lr}\")\n",
        "                    model = build_model(k, s)\n",
        "                    train_loader, val_loader = create_dataloaders(training_data, validation_data, b)\n",
        "                    final_loss, val_acc = train_model(model, train_loader, val_loader, lr)\n",
        "                    results.append({\n",
        "                        'kernel_size': k,\n",
        "                        'stride': s,\n",
        "                        'batch_size': b,\n",
        "                        'learning_rate': lr,\n",
        "                        'final_loss': round(final_loss, 4),\n",
        "                        'val_accuracy': round(val_acc, 2)\n",
        "                    })\n",
        "\n",
        "    return results\n"
      ],
      "metadata": {
        "id": "WUf8jBeK-aYG"
      },
      "execution_count": null,
      "outputs": []
    },
    {
      "cell_type": "markdown",
      "source": [
        "# Result Preview\n",
        "\n",
        "Display top-performing configurations for quick insight and stakeholder reporting."
      ],
      "metadata": {
        "id": "5DB1511H-1EW"
      }
    },
    {
      "cell_type": "code",
      "source": [
        "def preview_results(results, top_n=10):\n",
        "    df = pd.DataFrame(results)\n",
        "    print(df.sort_values(by='val_accuracy', ascending=False).head(top_n))"
      ],
      "metadata": {
        "id": "YTpdHki3-26R"
      },
      "execution_count": null,
      "outputs": []
    },
    {
      "cell_type": "markdown",
      "source": [
        "# Run Sweeps\n",
        "\n"
      ],
      "metadata": {
        "id": "mvIdyv3v_QrJ"
      }
    },
    {
      "cell_type": "code",
      "source": [
        "results = run_sweep(training_data, validation_data)"
      ],
      "metadata": {
        "colab": {
          "base_uri": "https://localhost:8080/"
        },
        "id": "Jx997uRR_Svk",
        "outputId": "1db08f84-0982-4889-88a0-9e138dbfd50e"
      },
      "execution_count": null,
      "outputs": [
        {
          "output_type": "stream",
          "name": "stdout",
          "text": [
            "Running: kernel=3, stride=1, batch=32, lr=0.001\n",
            "Running: kernel=3, stride=1, batch=32, lr=0.01\n",
            "Running: kernel=3, stride=1, batch=64, lr=0.001\n",
            "Running: kernel=3, stride=1, batch=64, lr=0.01\n",
            "Running: kernel=3, stride=2, batch=32, lr=0.001\n",
            "Running: kernel=3, stride=2, batch=32, lr=0.01\n",
            "Running: kernel=3, stride=2, batch=64, lr=0.001\n",
            "Running: kernel=3, stride=2, batch=64, lr=0.01\n",
            "Running: kernel=5, stride=1, batch=32, lr=0.001\n",
            "Running: kernel=5, stride=1, batch=32, lr=0.01\n",
            "Running: kernel=5, stride=1, batch=64, lr=0.001\n",
            "Running: kernel=5, stride=1, batch=64, lr=0.01\n",
            "Running: kernel=5, stride=2, batch=32, lr=0.001\n",
            "Running: kernel=5, stride=2, batch=32, lr=0.01\n",
            "Running: kernel=5, stride=2, batch=64, lr=0.001\n",
            "Running: kernel=5, stride=2, batch=64, lr=0.01\n"
          ]
        }
      ]
    },
    {
      "cell_type": "markdown",
      "source": [
        "# Preview Sweep Results\n",
        "\n"
      ],
      "metadata": {
        "id": "n30s8Id8BcWh"
      }
    },
    {
      "cell_type": "code",
      "source": [
        "preview_results(results)"
      ],
      "metadata": {
        "colab": {
          "base_uri": "https://localhost:8080/"
        },
        "id": "N3ZWnU0IBfkH",
        "outputId": "003236b4-3fe4-4db0-e485-1e74988c1e37"
      },
      "execution_count": null,
      "outputs": [
        {
          "output_type": "stream",
          "name": "stdout",
          "text": [
            "    kernel_size  stride  batch_size  learning_rate  final_loss  val_accuracy\n",
            "10            5       1          64          0.001      0.0011         98.51\n",
            "8             5       1          32          0.001      0.0067         98.38\n",
            "0             3       1          32          0.001      0.0318         98.11\n",
            "12            5       2          32          0.001      0.0152         97.75\n",
            "2             3       1          64          0.001      0.0037         97.74\n",
            "14            5       2          64          0.001      0.1821         97.58\n",
            "1             3       1          32          0.010      0.0356         97.53\n",
            "15            5       2          64          0.010      0.0117         97.47\n",
            "11            5       1          64          0.010      0.1218         97.47\n",
            "4             3       2          32          0.001      0.0173         97.40\n"
          ]
        }
      ]
    },
    {
      "cell_type": "markdown",
      "source": [
        "# Sweep Results Analysis\n",
        "\n",
        "Top Performers\n",
        "\n",
        "* Row 10: kernel = 5, stride = 1, batch = 64, lr = 0.001 results in validation accuracy of 98.51% and loss of 0.0011.\n",
        "* Row 8: kernel = 5, stride = 1, batch = 32, lr = 0.001 results in validation accuracy of 98.38% and loss of 0.0067.\n",
        "\n",
        "The larger kernal with stride of 1 preserves spatial detail and boosts accuracy.\n",
        "\n",
        "Batch size 64 slightly outperforms 32, suggesting smoother gradient updates.\n",
        "\n",
        "Low learning rate (0.001) yields stable convergence.\n",
        "\n",
        "Underperformers\n",
        "\n",
        "* Row 14: kernel = 5, stride = 2, batch = 64, lr = 0.001 results in validation accuracy of 97.58% and loss of 0.1821.\n",
        "* Row 11: kernel = 5, stride = 1, batch = 64, lr = 0.01 results in validation accuracy of 97.47% and loss of 0.1218.\n",
        "\n",
        "Increasing stride to 2 aggressively downsamples, hurting feature richness.\n",
        "\n",
        "Higher learning rate (0.01) destabilized training, especially with larger kernels."
      ],
      "metadata": {
        "id": "041cXobdGyRp"
      }
    },
    {
      "cell_type": "markdown",
      "source": [
        "Plot the training loss and validation loss as a function of epochs."
      ],
      "metadata": {
        "id": "KCdoHPeh9mdx"
      }
    },
    {
      "cell_type": "markdown",
      "source": [
        "Plot the both training accuracy and validation accuracy as a function of epochs."
      ],
      "metadata": {
        "id": "RtB0CjgH9q74"
      }
    },
    {
      "cell_type": "markdown",
      "source": [
        "Print the testing accuracy."
      ],
      "metadata": {
        "id": "5cegijD19vim"
      }
    }
  ]
}