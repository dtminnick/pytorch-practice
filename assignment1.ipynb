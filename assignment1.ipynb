{
  "nbformat": 4,
  "nbformat_minor": 0,
  "metadata": {
    "colab": {
      "provenance": [],
      "authorship_tag": "ABX9TyNTOHlHEOtXldAUgfEEjLjs",
      "include_colab_link": true
    },
    "kernelspec": {
      "name": "python3",
      "display_name": "Python 3"
    },
    "language_info": {
      "name": "python"
    }
  },
  "cells": [
    {
      "cell_type": "markdown",
      "metadata": {
        "id": "view-in-github",
        "colab_type": "text"
      },
      "source": [
        "<a href=\"https://colab.research.google.com/github/dtminnick/pytorch-practice/blob/main/assignment1.ipynb\" target=\"_parent\"><img src=\"https://colab.research.google.com/assets/colab-badge.svg\" alt=\"Open In Colab\"/></a>"
      ]
    },
    {
      "cell_type": "markdown",
      "source": [
        "This notebook completes the requirements for Deep Learning Module 2"
      ],
      "metadata": {
        "id": "aKw3CV0YiZbv"
      }
    },
    {
      "cell_type": "markdown",
      "source": [
        "Import libraries."
      ],
      "metadata": {
        "id": "UHuxQpk3imHf"
      }
    },
    {
      "cell_type": "code",
      "source": [
        "import torch\n",
        "import torch.nn as nn\n",
        "import torch.optim as optim\n",
        "import torch.nn.functional as F\n",
        "from torch.utils.data import DataLoader\n",
        "from torchvision import datasets, transforms\n",
        "from torchvision.utils import make_grid\n",
        "import numpy as np\n",
        "import pandas as pd\n",
        "from sklearn.metrics import confusion_matrix\n",
        "import matplotlib.pyplot as plt\n",
        "%matplotlib inline"
      ],
      "metadata": {
        "id": "WpEw0TDNiqLO"
      },
      "execution_count": 7,
      "outputs": []
    },
    {
      "cell_type": "markdown",
      "source": [
        "Load the MNIST data.\n",
        "\n",
        "Notes:\n",
        "\n",
        "transforms.ToTensor() converts the PIL image to a PyTorch tensor and scales pixel values from [0, 255] to [0.0, 1.0].\n",
        "\n",
        "transforms.Normalize((0.5,), (0.5,)) then normalizes the tensor to have values in the range [-1.0, 1.0], assuming the original data is centered around 0.5.\n",
        "\n",
        "Normalization is applied during data loading."
      ],
      "metadata": {
        "id": "r5fQL4Evj2oE"
      }
    },
    {
      "cell_type": "code",
      "source": [
        "transform = transforms.Compose([transforms.ToTensor(), transforms.Normalize((0.5,), (0.5,))])\n",
        "\n",
        "# Get training data.\n",
        "\n",
        "training_data = datasets.MNIST(root = \"./data\",\n",
        "                            train = True,\n",
        "                            download = True,\n",
        "                            transform = transform)\n",
        "\n",
        "# Get testing data.\n",
        "\n",
        "testing_data = datasets.MNIST(root = \"./data\",\n",
        "                           train = False,\n",
        "                           download = True,\n",
        "                           transform = transform)"
      ],
      "metadata": {
        "colab": {
          "base_uri": "https://localhost:8080/"
        },
        "id": "yfwFYgcTj7sA",
        "outputId": "21a5fa0d-167b-430a-da2e-b43dfcf0f9b2"
      },
      "execution_count": 12,
      "outputs": [
        {
          "output_type": "stream",
          "name": "stderr",
          "text": [
            "100%|██████████| 9.91M/9.91M [00:01<00:00, 6.08MB/s]\n",
            "100%|██████████| 28.9k/28.9k [00:00<00:00, 161kB/s]\n",
            "100%|██████████| 1.65M/1.65M [00:01<00:00, 1.53MB/s]\n",
            "100%|██████████| 4.54k/4.54k [00:00<00:00, 9.25MB/s]\n"
          ]
        }
      ]
    },
    {
      "cell_type": "markdown",
      "source": [
        "Confirm download of training data."
      ],
      "metadata": {
        "id": "tVmkZpxMlSdo"
      }
    },
    {
      "cell_type": "code",
      "source": [
        "train_data"
      ],
      "metadata": {
        "colab": {
          "base_uri": "https://localhost:8080/"
        },
        "id": "ZCf5-rxWlW2p",
        "outputId": "bac63e6e-a362-4d8f-85c1-6c19a8050780"
      },
      "execution_count": 13,
      "outputs": [
        {
          "output_type": "execute_result",
          "data": {
            "text/plain": [
              "Dataset MNIST\n",
              "    Number of datapoints: 60000\n",
              "    Root location: /cnn_data\n",
              "    Split: Train\n",
              "    StandardTransform\n",
              "Transform: ToTensor()"
            ]
          },
          "metadata": {},
          "execution_count": 13
        }
      ]
    },
    {
      "cell_type": "markdown",
      "source": [
        "Confirm download of test data."
      ],
      "metadata": {
        "id": "YkpHtO71lZZs"
      }
    },
    {
      "cell_type": "code",
      "source": [
        "test_data"
      ],
      "metadata": {
        "colab": {
          "base_uri": "https://localhost:8080/"
        },
        "id": "CQZSmtjVlb7S",
        "outputId": "2f3d9ddb-f4c1-454d-bb85-872b28a93210"
      },
      "execution_count": 14,
      "outputs": [
        {
          "output_type": "execute_result",
          "data": {
            "text/plain": [
              "Dataset MNIST\n",
              "    Number of datapoints: 10000\n",
              "    Root location: /cnn_data\n",
              "    Split: Test\n",
              "    StandardTransform\n",
              "Transform: ToTensor()"
            ]
          },
          "metadata": {},
          "execution_count": 14
        }
      ]
    },
    {
      "cell_type": "markdown",
      "source": [
        "Inspect an image from the training set to confirm normalization was applied properly.\n",
        "\n",
        "Correct normalization will show pixel values roughly in the range -1.0 to 1.0 and a mean that hovers around 0.0, since I normalized at 0.5."
      ],
      "metadata": {
        "id": "xDOHSh1ypl2-"
      }
    },
    {
      "cell_type": "code",
      "source": [
        "img_tensor, label = training_data[0]\n",
        "\n",
        "print(\"Label:\", label)\n",
        "print(\"Min pixel value:\", img_tensor.min().item())\n",
        "print(\"Max pixel value:\", img_tensor.max().item())\n",
        "print(\"Mean pixel value:\", img_tensor.mean().item())"
      ],
      "metadata": {
        "colab": {
          "base_uri": "https://localhost:8080/"
        },
        "id": "952vbGRmpr0l",
        "outputId": "52f8fc2c-303b-4755-84d6-8054f220f470"
      },
      "execution_count": 16,
      "outputs": [
        {
          "output_type": "stream",
          "name": "stdout",
          "text": [
            "Label: 5\n",
            "Min pixel value: -1.0\n",
            "Max pixel value: 1.0\n",
            "Mean pixel value: -0.7246397137641907\n"
          ]
        }
      ]
    },
    {
      "cell_type": "markdown",
      "source": [
        "Split the data into training, validation and testing sets.\n",
        "\n",
        "A testing set already exists; randomly take 10,000 images from the training set and reserve them as a validation set."
      ],
      "metadata": {
        "id": "hfvRWiqCo1yq"
      }
    },
    {
      "cell_type": "code",
      "source": [],
      "metadata": {
        "id": "gYfW9dV8o-Yk"
      },
      "execution_count": null,
      "outputs": []
    }
  ]
}