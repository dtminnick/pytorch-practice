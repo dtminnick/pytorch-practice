{
  "nbformat": 4,
  "nbformat_minor": 0,
  "metadata": {
    "colab": {
      "provenance": [],
      "authorship_tag": "ABX9TyOdlK0V2z1FmeZAeN/e4PGq",
      "include_colab_link": true
    },
    "kernelspec": {
      "name": "python3",
      "display_name": "Python 3"
    },
    "language_info": {
      "name": "python"
    }
  },
  "cells": [
    {
      "cell_type": "markdown",
      "metadata": {
        "id": "view-in-github",
        "colab_type": "text"
      },
      "source": [
        "<a href=\"https://colab.research.google.com/github/dtminnick/pytorch-practice/blob/main/dl_assignment1_part2.ipynb\" target=\"_parent\"><img src=\"https://colab.research.google.com/assets/colab-badge.svg\" alt=\"Open In Colab\"/></a>"
      ]
    },
    {
      "cell_type": "markdown",
      "source": [
        "**Deep Learning - Manually Graded Assignment 1 - Part 2 (CIFAR Dataset)**\n",
        "\n",
        "Donnie Minnick\n",
        "\n",
        "October 2025"
      ],
      "metadata": {
        "id": "TZCVLAIIwVlH"
      }
    },
    {
      "cell_type": "markdown",
      "source": [
        "# Import Libraries"
      ],
      "metadata": {
        "id": "ZQxh3j8UwpvZ"
      }
    },
    {
      "cell_type": "code",
      "source": [
        "import torch\n",
        "import torch.nn as nn\n",
        "import torch.optim as optim\n",
        "import torch.nn.functional as F\n",
        "from torch.utils.data import random_split\n",
        "from torch.utils.data import DataLoader\n",
        "import torchvision\n",
        "from torchvision.transforms.functional import to_pil_image\n",
        "from torchvision.utils import make_grid\n",
        "import numpy as np\n",
        "import pandas as pd\n",
        "from sklearn.metrics import confusion_matrix\n",
        "import matplotlib.pyplot as plt\n",
        "%matplotlib inline"
      ],
      "metadata": {
        "id": "cLTm1HJgwskp"
      },
      "execution_count": null,
      "outputs": []
    },
    {
      "cell_type": "markdown",
      "source": [
        "# Load CIFAR Data"
      ],
      "metadata": {
        "id": "imq7zgUIwyN9"
      }
    },
    {
      "cell_type": "code",
      "source": [
        "transform = transforms.Compose([\n",
        "    transforms.RandomHorizontalFlip(),\n",
        "    transforms.RandomCrop(32, padding=4),\n",
        "    transforms.ToTensor(),\n",
        "    transforms.Normalize((0.5, 0.5, 0.5), (0.5, 0.5, 0.5))])\n",
        "\n",
        "# Get training data.\n",
        "\n",
        "training_data = torchvision.datasets.CIFAR10(root = './data',\n",
        "                                             train = True,\n",
        "                                             download = True,\n",
        "                                             transform = transform)\n",
        "\n",
        "# Get testing data.\n",
        "\n",
        "testing_data = torchvision.datasets.CIFAR10(root = './data',\n",
        "                                            train = False,\n",
        "                                            download = True,\n",
        "                                            transform = transform)\n"
      ],
      "metadata": {
        "id": "QTTuNArIw37e"
      },
      "execution_count": null,
      "outputs": []
    },
    {
      "cell_type": "markdown",
      "source": [
        "Confirm download of training data."
      ],
      "metadata": {
        "id": "AAk5VDeJx7Al"
      }
    },
    {
      "cell_type": "code",
      "source": [
        "print(\"Training set size:\", len(training_data))"
      ],
      "metadata": {
        "colab": {
          "base_uri": "https://localhost:8080/"
        },
        "id": "CjMr0MHGx9M8",
        "outputId": "4da842e2-6c27-484a-bce3-1868c114123d"
      },
      "execution_count": null,
      "outputs": [
        {
          "output_type": "stream",
          "name": "stdout",
          "text": [
            "Training set size: 50000\n"
          ]
        }
      ]
    },
    {
      "cell_type": "markdown",
      "source": [
        "Confirm download of testing data."
      ],
      "metadata": {
        "id": "tBt3KVR9yABz"
      }
    },
    {
      "cell_type": "code",
      "source": [
        "print(\"Testing set size:\", len(testing_data))"
      ],
      "metadata": {
        "colab": {
          "base_uri": "https://localhost:8080/"
        },
        "id": "VkFeJ2hdyCOS",
        "outputId": "d2487c70-58d5-4317-ddb6-7942c94c85a0"
      },
      "execution_count": null,
      "outputs": [
        {
          "output_type": "stream",
          "name": "stdout",
          "text": [
            "Testing set size: 10000\n"
          ]
        }
      ]
    },
    {
      "cell_type": "markdown",
      "source": [
        "# Split Data\n",
        "\n",
        "Split the data into training, validation and testing sets.\n",
        "\n",
        "A testing set already exists; randomly take 10,000 images from the training set and reserve them as a validation set."
      ],
      "metadata": {
        "id": "XjeXe4deyT7R"
      }
    },
    {
      "cell_type": "code",
      "source": [
        "train_size = 40000\n",
        "val_size = 10000\n",
        "\n",
        "training_data, validation_data = random_split(training_data, [train_size, val_size])"
      ],
      "metadata": {
        "id": "u4CuVzycyZVU"
      },
      "execution_count": null,
      "outputs": []
    },
    {
      "cell_type": "markdown",
      "source": [
        "Confirm splits."
      ],
      "metadata": {
        "id": "8MDt9kdjymWd"
      }
    },
    {
      "cell_type": "code",
      "source": [
        "print(\"Training set size:\", len(training_data))\n",
        "print(\"Validation set size:\", len(validation_data))\n",
        "print(\"Testing set size:\", len(testing_data))"
      ],
      "metadata": {
        "colab": {
          "base_uri": "https://localhost:8080/"
        },
        "id": "HvhAIvH6ynva",
        "outputId": "43eaf3d8-b185-418c-f9af-ca40f312b946"
      },
      "execution_count": null,
      "outputs": [
        {
          "output_type": "stream",
          "name": "stdout",
          "text": [
            "Training set size: 40000\n",
            "Validation set size: 10000\n",
            "Testing set size: 10000\n"
          ]
        }
      ]
    },
    {
      "cell_type": "markdown",
      "source": [
        "# Build a CNN Network\n",
        "\n",
        "Build a CNN network with convolution layers to classify the images."
      ],
      "metadata": {
        "id": "kWEGYGufysJZ"
      }
    },
    {
      "cell_type": "markdown",
      "source": [
        "# Implement Sweep Strategy\n",
        "\n",
        "Implement a sweep strategy to find the optimal hyperparameters to maximize accuracy.\n",
        "\n",
        "Systematically vary key hyperparameters - kernel size, stride, batch size, and learning rate - to assess their impact on training loss, validation accuracy, and feature map evolution.  This modular sweep enables principled experimentation, helping identify optimal architecture and training settings for improved model performance and stakeholder clarity."
      ],
      "metadata": {
        "id": "lry-xKlN7acH"
      }
    },
    {
      "cell_type": "markdown",
      "source": [
        "## Create Sweep Grid\n",
        "\n",
        "Create a sweep grid to explore four key hyperparameters that influence CNN performance."
      ],
      "metadata": {
        "id": "0ssq470H8jWS"
      }
    },
    {
      "cell_type": "code",
      "source": [
        "sweep_grid = {'kernel_size': [3],\n",
        "              'stride': [2],\n",
        "              'batch_size': [16],\n",
        "              'learning_rate': [0.001]}"
      ],
      "metadata": {
        "id": "RJllPZZM8Uqk"
      },
      "execution_count": null,
      "outputs": []
    },
    {
      "cell_type": "markdown",
      "source": [
        "**Kernel size** [3, 5] tests the impact of local versus broader spatial feature extraction.\n",
        "\n",
        "**Stride** [1, 2] assesses how spatial resolution and downsizing effect learning.\n",
        "\n",
        "**Batch size** [32, 64] evaluates gradient stability, generalization, and training efficiency.\n",
        "\n",
        "**Learning rate** [0.001, 0.01] measures convergence speed and sensitivity to weight updates.\n",
        "\n",
        "This grid yields 16 unique configurations (2 * 2 * 2 * 2), each to be trained and evaluated to compare loss, accuracy, and feature map evolution.\n",
        "\n",
        "The goal is to identify the optimal combinations for model performance."
      ],
      "metadata": {
        "id": "n3FM_T0m825w"
      }
    },
    {
      "cell_type": "markdown",
      "source": [
        "## Compute Flattened Size Function\n",
        "\n",
        "Function to compute the current input size for the model.  Use input shape 32 * 32 with three channels."
      ],
      "metadata": {
        "id": "cQ60ADn__AIF"
      }
    },
    {
      "cell_type": "code",
      "source": [
        "def compute_flattened_size(model, input_shape = (3, 32, 32)):\n",
        "  with torch.no_grad():\n",
        "    dummy = torch.zeros(1, *input_shape)\n",
        "    output = model(dummy)\n",
        "    return output.view(1, -1).shape[1]"
      ],
      "metadata": {
        "id": "z2blLsOP_JXg"
      },
      "execution_count": null,
      "outputs": []
    },
    {
      "cell_type": "markdown",
      "source": [
        "## Create Model Builder\n",
        "\n",
        "Implement modular construction of a CNN with the specified kernel size and stride."
      ],
      "metadata": {
        "id": "yf1Ei4_p91rX"
      }
    },
    {
      "cell_type": "code",
      "source": [
        "def build_model(kernel_size, stride):\n",
        "  feature_extractor = nn.Sequential(\n",
        "      nn.Conv2d(3, 6, kernel_size = kernel_size, stride = stride),\n",
        "      nn.ReLU(),\n",
        "      nn.Conv2d(6, 16, kernel_size = kernel_size, stride = stride),\n",
        "      nn.ReLU(),\n",
        "      nn.Flatten()\n",
        "  )\n",
        "\n",
        "  flattened_size = compute_flattened_size(feature_extractor)\n",
        "\n",
        "  return nn.Sequential(\n",
        "      feature_extractor,\n",
        "      nn.Linear(flattened_size, 10),\n",
        "      nn.Softmax(dim = 1)\n",
        "  )"
      ],
      "metadata": {
        "id": "T6ZNzUvi-JO5"
      },
      "execution_count": null,
      "outputs": []
    },
    {
      "cell_type": "markdown",
      "source": [
        "## Create DataLoader Factory\n",
        "\n",
        "Create data loaders with consistent batching to keep data handling clean and configurable."
      ],
      "metadata": {
        "id": "B5Ro0TWj_mTa"
      }
    },
    {
      "cell_type": "code",
      "source": [
        "def create_dataloaders(training_data, validation_data, testing_data, batch_size):\n",
        "  training_loader = DataLoader(training_data, batch_size = batch_size, shuffle = True)\n",
        "  validation_loader = DataLoader(validation_data, batch_size = batch_size, shuffle = False)\n",
        "  testing_loader = DataLoader(testing_data, batch_size = batch_size, shuffle = False)\n",
        "  return training_loader, validation_loader, testing_loader"
      ],
      "metadata": {
        "id": "5wvWTGdD_wEh"
      },
      "execution_count": null,
      "outputs": []
    },
    {
      "cell_type": "markdown",
      "source": [
        "## Create Train Model Function\n",
        "\n",
        "Function to train the model and return final loss and validation accuracy; modular design for reuse across sweeps."
      ],
      "metadata": {
        "id": "U25o_huUARuz"
      }
    },
    {
      "cell_type": "code",
      "source": [
        "def train_model(model, training_loader, validation_loader, lr, device = \"cpu\", epochs = 10):\n",
        "  model.to(device)\n",
        "  optimizer = optim.Adam(model.parameters(), lr = lr)\n",
        "  criterion = nn.NLLLoss()\n",
        "\n",
        "  for epoch in range(epochs):\n",
        "    model.train()\n",
        "    for images, labels in training_loader:\n",
        "      images, labels = images.to(device), labels.to(device)\n",
        "      optimizer.zero_grad()\n",
        "      output = model(images)\n",
        "      loss = criterion(output, labels)\n",
        "      loss.backward()\n",
        "      optimizer.step()\n",
        "\n",
        "  model.eval()\n",
        "  correct, total = 0, 0\n",
        "\n",
        "  with torch.no_grad():\n",
        "    for images, labels in validation_loader:\n",
        "      images, labels = images.to(device), labels.to(device)\n",
        "      output = model(images)\n",
        "      pred = output.argmax(dim = 1)\n",
        "      correct += (pred == labels).sum().item()\n",
        "      total += labels.size(0)\n",
        "\n",
        "  val_accuracy = 100 * correct / total\n",
        "  return loss.item(), val_accuracy"
      ],
      "metadata": {
        "id": "UgIk0krYAdwO"
      },
      "execution_count": null,
      "outputs": []
    },
    {
      "cell_type": "code",
      "source": [
        "def train_model(model, train_loader, val_loader, learning_rate, epochs=50):\n",
        "    criterion = nn.CrossEntropyLoss()\n",
        "    optimizer = torch.optim.Adam(model.parameters(), lr=learning_rate)\n",
        "\n",
        "    train_loss_log = []\n",
        "    val_acc_log = []\n",
        "\n",
        "    for epoch in range(epochs):\n",
        "        model.train()\n",
        "        running_loss = 0.0\n",
        "        for inputs, labels in train_loader:\n",
        "            optimizer.zero_grad()\n",
        "            outputs = model(inputs)\n",
        "            loss = criterion(outputs, labels)\n",
        "            loss.backward()\n",
        "            optimizer.step()\n",
        "            running_loss += loss.item()\n",
        "\n",
        "        avg_train_loss = running_loss / len(train_loader)\n",
        "        train_loss_log.append(avg_train_loss)\n",
        "\n",
        "        # Validation accuracy\n",
        "        model.eval()\n",
        "        correct = 0\n",
        "        total = 0\n",
        "        with torch.no_grad():\n",
        "            for inputs, labels in val_loader:\n",
        "                outputs = model(inputs)\n",
        "                _, predicted = torch.max(outputs.data, 1)\n",
        "                total += labels.size(0)\n",
        "                correct += (predicted == labels).sum().item()\n",
        "\n",
        "        val_acc = 100 * correct / total\n",
        "        val_acc_log.append(val_acc)\n",
        "\n",
        "    return train_loss_log, val_acc_log\n"
      ],
      "metadata": {
        "id": "2HDSxWV1pDsK"
      },
      "execution_count": null,
      "outputs": []
    },
    {
      "cell_type": "markdown",
      "source": [
        "## Create Sweep Runner Function\n",
        "\n",
        "Function to execute the full sweep across all parameter combinations.  Log results for analysis."
      ],
      "metadata": {
        "id": "SvQ52o-MB4kK"
      }
    },
    {
      "cell_type": "code",
      "source": [
        "def run_sweep(training_data, validation_data, testing_data, sweep_grid):\n",
        "    results = []\n",
        "    configs = []\n",
        "    logs = []\n",
        "\n",
        "    for k in sweep_grid[\"kernel_size\"]:\n",
        "        for s in sweep_grid[\"stride\"]:\n",
        "            for b in sweep_grid[\"batch_size\"]:\n",
        "                for lr in sweep_grid[\"learning_rate\"]:\n",
        "                    print(f\"Running: kernel_size = {k}, stride = {s}, batch_size = {b}, learning_rate = {lr}\")\n",
        "\n",
        "                    # Build model\n",
        "                    model = build_model(k, s)\n",
        "\n",
        "                    # Create dataloaders\n",
        "                    training_loader, validation_loader, testing_loader = create_dataloaders(\n",
        "                        training_data, validation_data, testing_data, b\n",
        "                    )\n",
        "\n",
        "                    # Train model and log per-epoch metrics\n",
        "                    train_loss_log, val_acc_log = train_model(\n",
        "                        model, training_loader, validation_loader, lr\n",
        "                    )\n",
        "\n",
        "                    # Store final metrics\n",
        "                    results.append({\n",
        "                        \"kernel_size\": k,\n",
        "                        \"stride\": s,\n",
        "                        \"batch_size\": b,\n",
        "                        \"learning_rate\": lr,\n",
        "                        \"final_loss\": round(train_loss_log[-1], 4),\n",
        "                        \"val_acc\": round(val_acc_log[-1], 2)\n",
        "                    })\n",
        "\n",
        "                    # Store full config and logs for plotting\n",
        "                    configs.append({\n",
        "                        \"kernel_size\": k,\n",
        "                        \"stride\": s,\n",
        "                        \"batch_size\": b,\n",
        "                        \"learning_rate\": lr\n",
        "                    })\n",
        "                    logs.append((train_loss_log, val_acc_log))\n",
        "\n",
        "    return results, configs, logs\n"
      ],
      "metadata": {
        "id": "-rRGWIxnCEGZ"
      },
      "execution_count": null,
      "outputs": []
    },
    {
      "cell_type": "markdown",
      "source": [
        "## Create Preview Results Function\n",
        "\n",
        "Display top-performing configurations for quick insight and stakeholder reporting."
      ],
      "metadata": {
        "id": "s5r_bW5gDZSV"
      }
    },
    {
      "cell_type": "code",
      "source": [
        "def preview_results(results, top_n = 10):\n",
        "  df = pd.DataFrame(results)\n",
        "  print(df.sort_values(by = \"val_acc\", ascending = False).head(top_n))"
      ],
      "metadata": {
        "id": "pWjwZDjTDivQ"
      },
      "execution_count": null,
      "outputs": []
    },
    {
      "cell_type": "markdown",
      "source": [
        "# Run Sweeps"
      ],
      "metadata": {
        "id": "eS-puAysLBRk"
      }
    },
    {
      "cell_type": "code",
      "source": [
        "results, configs, logs = run_sweep(training_data, validation_data, testing_data, sweep_grid)"
      ],
      "metadata": {
        "colab": {
          "base_uri": "https://localhost:8080/"
        },
        "id": "aMd5c861LC4n",
        "outputId": "2cf3979c-a224-4963-bbaa-1e17715a295d"
      },
      "execution_count": null,
      "outputs": [
        {
          "output_type": "stream",
          "name": "stdout",
          "text": [
            "Running: kernel_size = 3, stride = 2, batch_size = 16, learning_rate = 0.001\n"
          ]
        }
      ]
    },
    {
      "cell_type": "code",
      "source": [
        "\n",
        "preview_results(results)"
      ],
      "metadata": {
        "colab": {
          "base_uri": "https://localhost:8080/"
        },
        "id": "XEzP5EkH5J2h",
        "outputId": "62f59b5b-d3fc-4950-e0a5-d29cec8ac7d0"
      },
      "execution_count": null,
      "outputs": [
        {
          "output_type": "stream",
          "name": "stdout",
          "text": [
            "   kernel_size  stride  batch_size  learning_rate  final_loss  val_acc\n",
            "0            3       2          16          0.001      1.9556     48.6\n"
          ]
        }
      ]
    },
    {
      "cell_type": "markdown",
      "source": [
        "# Preview Sweep Results\n",
        "\n"
      ],
      "metadata": {
        "id": "gfgZ8ZiyLWwT"
      }
    },
    {
      "cell_type": "markdown",
      "source": [
        "# Plot Training Curves\n",
        "\n"
      ],
      "metadata": {
        "id": "7F6zIDkDpJu1"
      }
    },
    {
      "cell_type": "code",
      "source": [
        "import matplotlib.pyplot as plt\n",
        "\n",
        "def plot_training_curves(configs, logs):\n",
        "    for i, (loss_log, acc_log) in enumerate(logs):\n",
        "        plt.figure(figsize=(12, 4))\n",
        "\n",
        "        # Loss curve\n",
        "        plt.subplot(1, 2, 1)\n",
        "        plt.plot(loss_log, label=f\"Config {i}\")\n",
        "        plt.title(\"Training Loss\")\n",
        "        plt.xlabel(\"Epoch\")\n",
        "        plt.ylabel(\"Loss\")\n",
        "        plt.legend()\n",
        "\n",
        "        # Accuracy curve\n",
        "        plt.subplot(1, 2, 2)\n",
        "        plt.plot(acc_log, label=f\"Config {i}\")\n",
        "        plt.title(\"Validation Accuracy\")\n",
        "        plt.xlabel(\"Epoch\")\n",
        "        plt.ylabel(\"Accuracy (%)\")\n",
        "        plt.legend()\n",
        "\n",
        "        plt.suptitle(f\"Training Dynamics for Config {i}: {configs[i]}\")\n",
        "        plt.tight_layout()\n",
        "        plt.show()\n"
      ],
      "metadata": {
        "id": "PO2NwofOpMWG"
      },
      "execution_count": null,
      "outputs": []
    },
    {
      "cell_type": "code",
      "source": [
        "plot_training_curves(configs, logs)"
      ],
      "metadata": {
        "colab": {
          "base_uri": "https://localhost:8080/",
          "height": 413
        },
        "id": "hVgn9_th8R5A",
        "outputId": "858bf528-34eb-48ac-d16f-83fa7aa46f70"
      },
      "execution_count": null,
      "outputs": [
        {
          "output_type": "display_data",
          "data": {
            "text/plain": [
              "<Figure size 1200x400 with 2 Axes>"
            ],
            "image/png": "[encoded data removed]"
          },
          "metadata": {}
        }
      ]
    }
  ]
}