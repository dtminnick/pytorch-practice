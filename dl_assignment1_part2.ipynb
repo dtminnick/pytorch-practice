{
  "nbformat": 4,
  "nbformat_minor": 0,
  "metadata": {
    "colab": {
      "provenance": [],
      "authorship_tag": "ABX9TyMGGKOQF5F4UJJnHuHlbutW",
      "include_colab_link": true
    },
    "kernelspec": {
      "name": "python3",
      "display_name": "Python 3"
    },
    "language_info": {
      "name": "python"
    }
  },
  "cells": [
    {
      "cell_type": "markdown",
      "metadata": {
        "id": "view-in-github",
        "colab_type": "text"
      },
      "source": [
        "<a href=\"https://colab.research.google.com/github/dtminnick/pytorch-practice/blob/main/dl_assignment1_part2.ipynb\" target=\"_parent\"><img src=\"https://colab.research.google.com/assets/colab-badge.svg\" alt=\"Open In Colab\"/></a>"
      ]
    },
    {
      "cell_type": "markdown",
      "source": [
        "# Manually Graded Assignment 1 - Part 2: CNN with the CIFAR Dataset\n",
        "\n",
        "Donnie Minnick - Deep Learning - Fall B 2025 - October 2025"
      ],
      "metadata": {
        "id": "TZCVLAIIwVlH"
      }
    },
    {
      "cell_type": "markdown",
      "source": [
        "# Introduction and Objective\n",
        "\n",
        "This notebook explores image classification using Convolutional Neural Networks (CNNs) on the CIFAR-10 dataset, a benchmark collection of 60,000 32×32 color images across 10 object categories. CNNs are well-suited for visual recognition tasks due to their ability to hierarchically extract spatial features.\n",
        "\n",
        "The goal is to build a modular CNN architecture, evaluate its performance, and iteratively tune hyperparameters such as kernel size, stride, and batch size to optimize classification accuracy. All experiments are scaffolded for reproducibility and interpretability, with annotated logging and visual diagnostics to support stakeholder clarity.\n",
        "\n",
        "Objectives include:\n",
        "\n",
        "* Load and preprocess the CIFAR-10 dataset using PyTorch and torchvision transforms.\n",
        "* Design and implement a CNN with convolutional layers tailored for image classification.\n",
        "* Train the model and report classification accuracy on the test set.\n",
        "* Perform hyperparameter tuning to improve model performance, focusing on kernel size, stride, and batch size.\n",
        "* Log training dynamics and visualize feature map evolution to support interpretability and stakeholder reporting."
      ],
      "metadata": {
        "id": "df_e-X0314ey"
      }
    },
    {
      "cell_type": "markdown",
      "source": [
        "# Import Libraries\n",
        "\n",
        "My toolkit is modular and purposeful: PyTorch powers the neural architecture and training loop, while torchvision streamlines dataset loading and image transformations. We augment the data with horizontal flips and random crops to simulate real-world variability, then normalize it for stable training dynamics.\n",
        "\n",
        "Each import serves a role in our interpretability-first workflow:\n",
        "\n",
        "**Modeling & Optimization**: torch.nn, torch.optim, and F scaffold the CNN layers and training logic.\n",
        "\n",
        "**Data Management**: DataLoader and random_split orchestrate reproducible batching and validation splits.\n",
        "\n",
        "**Visualization**: make_grid, to_pil_image, and matplotlib help us inspect feature maps and training curves.\n",
        "\n",
        "**Diagnostics**: confusion_matrix, numpy, and pandas surface performance bottlenecks and class-level insights.\n",
        "\n",
        "My objective is not just to reach high accuracy, but to understand how architectural choices like kernel size, stride, and batch size shape learning dynamics. I log, visualize, and annotate each step, ensuring that every experiment is reproducible and stakeholder-friendly."
      ],
      "metadata": {
        "id": "ZQxh3j8UwpvZ"
      }
    },
    {
      "cell_type": "code",
      "source": [
        "import torch\n",
        "import torch.nn as nn\n",
        "import torch.optim as optim\n",
        "import torch.nn.functional as F\n",
        "from torch.utils.data import random_split\n",
        "from torch.utils.data import DataLoader\n",
        "import torchvision\n",
        "from torchvision import transforms\n",
        "from torchvision.transforms.functional import to_pil_image\n",
        "from torchvision.utils import make_grid\n",
        "from collections import Counter\n",
        "import pandas as pd\n",
        "import random\n",
        "import numpy as np\n",
        "from sklearn.metrics import confusion_matrix\n",
        "import matplotlib.pyplot as plt\n",
        "\n",
        "%matplotlib inline\n",
        "\n",
        "SEED = 91210\n",
        "torch.manual_seed(SEED)\n",
        "random.seed(SEED)\n",
        "np.random.seed(SEED)\n",
        "\n",
        "torch.cuda.manual_seed(SEED)\n",
        "torch.backends.cudnn.deterministic = True\n",
        "torch.backends.cudnn.benchmark = False"
      ],
      "metadata": {
        "id": "cLTm1HJgwskp"
      },
      "execution_count": 15,
      "outputs": []
    },
    {
      "cell_type": "markdown",
      "source": [
        "# Load CIFAR Data\n",
        "\n",
        "Before diving into convolutional layers and training loops, I begin with a principled setup of the CIFAR-10 dataset. I define a transformation pipeline that introduces controlled randomness:\n",
        "\n",
        "**RandomHorizontalFlip** simulates mirrored perspectives, helping the model generalize across orientations.\n",
        "\n",
        "**RandomCrop** with padding mimics imperfect framing, encouraging robustness to spatial shifts.\n",
        "\n",
        "**ToTensor** converts images into PyTorch-compatible format, while\n",
        "\n",
        "**Normalize** scales pixel values to a centered range of [-1, 1], stabilizing gradient flow during training.\n",
        "\n",
        "With this pipeline in place, I load the CIFAR-10 dataset twice, once for training and once for testing, ensuring both sets undergo the same preprocessing for consistency. The training set becomes the playground for architectural tuning and diagnostic sweeps, while the test set serves as our benchmark for generalization."
      ],
      "metadata": {
        "id": "imq7zgUIwyN9"
      }
    },
    {
      "cell_type": "code",
      "source": [
        "transform = transforms.Compose([\n",
        "    transforms.RandomHorizontalFlip(),\n",
        "    transforms.RandomCrop(32, padding=4),\n",
        "    transforms.ToTensor(),\n",
        "    transforms.Normalize((0.5, 0.5, 0.5), (0.5, 0.5, 0.5))])\n",
        "\n",
        "# Get training data.\n",
        "\n",
        "training_data = torchvision.datasets.CIFAR10(root = './data',\n",
        "                                             train = True,\n",
        "                                             download = True,\n",
        "                                             transform = transform)\n",
        "\n",
        "# Get testing data.\n",
        "\n",
        "testing_data = torchvision.datasets.CIFAR10(root = './data',\n",
        "                                            train = False,\n",
        "                                            download = True,\n",
        "                                            transform = transform)\n"
      ],
      "metadata": {
        "id": "QTTuNArIw37e",
        "colab": {
          "base_uri": "https://localhost:8080/"
        },
        "outputId": "5b416399-aee3-404c-adc4-d3f400d02eab"
      },
      "execution_count": 6,
      "outputs": [
        {
          "output_type": "stream",
          "name": "stderr",
          "text": [
            "100%|██████████| 170M/170M [00:02<00:00, 75.8MB/s]\n"
          ]
        }
      ]
    },
    {
      "cell_type": "markdown",
      "source": [
        "Confirm download of training data."
      ],
      "metadata": {
        "id": "AAk5VDeJx7Al"
      }
    },
    {
      "cell_type": "code",
      "source": [
        "print(\"Training set size:\", len(training_data))"
      ],
      "metadata": {
        "colab": {
          "base_uri": "https://localhost:8080/"
        },
        "id": "CjMr0MHGx9M8",
        "outputId": "1c5c4f7e-c023-47bf-b352-03b500cdafeb"
      },
      "execution_count": 7,
      "outputs": [
        {
          "output_type": "stream",
          "name": "stdout",
          "text": [
            "Training set size: 50000\n"
          ]
        }
      ]
    },
    {
      "cell_type": "markdown",
      "source": [
        "Confirm download of testing data."
      ],
      "metadata": {
        "id": "tBt3KVR9yABz"
      }
    },
    {
      "cell_type": "code",
      "source": [
        "print(\"Testing set size:\", len(testing_data))"
      ],
      "metadata": {
        "colab": {
          "base_uri": "https://localhost:8080/"
        },
        "id": "VkFeJ2hdyCOS",
        "outputId": "1625dfca-e773-4048-b81b-405c76811d44"
      },
      "execution_count": 8,
      "outputs": [
        {
          "output_type": "stream",
          "name": "stdout",
          "text": [
            "Testing set size: 10000\n"
          ]
        }
      ]
    },
    {
      "cell_type": "markdown",
      "source": [
        "# Split Data\n",
        "\n",
        "The original CIFAR-10 training set (50,000 images) is split into:\n",
        "\n",
        "* Training subset: 40,000 images used for model learning.\n",
        "* Testing subset: 10,000 images used to monitor performance and tune hyperparameters.\n",
        "\n",
        "Randomly take 10,000 images from the training set and reserve them as a validation set.\n"
      ],
      "metadata": {
        "id": "XjeXe4deyT7R"
      }
    },
    {
      "cell_type": "code",
      "source": [
        "train_size = 40000\n",
        "val_size = 10000\n",
        "\n",
        "training_data, validation_data = random_split(training_data, [train_size, val_size])"
      ],
      "metadata": {
        "id": "u4CuVzycyZVU"
      },
      "execution_count": 9,
      "outputs": []
    },
    {
      "cell_type": "markdown",
      "source": [
        "Confirm splits."
      ],
      "metadata": {
        "id": "8MDt9kdjymWd"
      }
    },
    {
      "cell_type": "code",
      "source": [
        "print(\"Training set size:\", len(training_data))\n",
        "print(\"Validation set size:\", len(validation_data))\n",
        "print(\"Testing set size:\", len(testing_data))"
      ],
      "metadata": {
        "colab": {
          "base_uri": "https://localhost:8080/"
        },
        "id": "HvhAIvH6ynva",
        "outputId": "873e1bba-3729-4569-85df-090856d0a376"
      },
      "execution_count": 10,
      "outputs": [
        {
          "output_type": "stream",
          "name": "stdout",
          "text": [
            "Training set size: 40000\n",
            "Validation set size: 10000\n",
            "Testing set size: 10000\n"
          ]
        }
      ]
    },
    {
      "cell_type": "markdown",
      "source": [
        "# Check Class Distribution\n",
        "\n",
        "To ensure that the training, validation, and testing splits maintain balanced representation across digit classes, I log the label distribution in each subset. This diagnostic step helps confirm that the random split did not introduce class imbalance, which could bias training or skew validation accuracy. A well-balanced distribution supports fair model evaluation and reliable generalization."
      ],
      "metadata": {
        "id": "-Dql9SW21LCg"
      }
    },
    {
      "cell_type": "code",
      "source": [
        "def get_label_distribution(dataset):\n",
        "    labels = [label for _, label in dataset]\n",
        "    return Counter(labels)\n",
        "\n",
        "print(\"Training label distribution:\", get_label_distribution(training_data))\n",
        "print(\"Validation label distribution:\", get_label_distribution(validation_data))\n",
        "print(\"Testing label distribution:\", get_label_distribution(testing_data))"
      ],
      "metadata": {
        "colab": {
          "base_uri": "https://localhost:8080/"
        },
        "id": "Vf3UvMsn1Pb1",
        "outputId": "f3c5c534-cdc8-44c9-b7d1-0f90e8b0105c"
      },
      "execution_count": 16,
      "outputs": [
        {
          "output_type": "stream",
          "name": "stdout",
          "text": [
            "Training label distribution: Counter({0: 4027, 1: 4023, 2: 4018, 3: 4016, 4: 4000, 6: 3988, 8: 3987, 5: 3984, 9: 3980, 7: 3977})\n",
            "Validation label distribution: Counter({7: 1023, 9: 1020, 5: 1016, 8: 1013, 6: 1012, 4: 1000, 3: 984, 2: 982, 1: 977, 0: 973})\n",
            "Testing label distribution: Counter({3: 1000, 8: 1000, 0: 1000, 6: 1000, 1: 1000, 9: 1000, 5: 1000, 7: 1000, 4: 1000, 2: 1000})\n"
          ]
        }
      ]
    },
    {
      "cell_type": "markdown",
      "source": [
        "# Visualize Class Distribution for All Splits\n",
        "Visualize class distributions for training, validation, and testing datasets."
      ],
      "metadata": {
        "id": "ts3dYRA62AZj"
      }
    },
    {
      "cell_type": "code",
      "source": [
        "def plot_distribution(counter, title):\n",
        "    plt.figure(figsize=(8, 4))\n",
        "    sns.barplot(x=list(counter.keys()), y=list(counter.values()))\n",
        "    plt.title(title)\n",
        "    plt.xlabel(\"Digit Class\")\n",
        "    plt.ylabel(\"Count\")\n",
        "    plt.grid(True)\n",
        "    plt.show()\n",
        "\n",
        "# Training set\n",
        "\n",
        "train_dist = get_label_distribution(training_data)\n",
        "print(\"Training label distribution:\", train_dist)\n",
        "plot_distribution(train_dist, \"Training Set Class Distribution\")\n",
        "\n",
        "# Validation set\n",
        "\n",
        "val_dist = get_label_distribution(validation_data)\n",
        "print(\"Validation label distribution:\", val_dist)\n",
        "plot_distribution(val_dist, \"Validation Set Class Distribution\")\n",
        "\n",
        "# Testing set\n",
        "\n",
        "test_dist = get_label_distribution(testing_data)\n",
        "print(\"Testing label distribution:\", test_dist)\n",
        "plot_distribution(test_dist, \"Testing Set Class Distribution\")"
      ],
      "metadata": {
        "colab": {
          "base_uri": "https://localhost:8080/",
          "height": 1000
        },
        "id": "_h5GVUIZ2By0",
        "outputId": "c0588384-d81d-4ac5-aef7-75edc723913b"
      },
      "execution_count": 17,
      "outputs": [
        {
          "output_type": "stream",
          "name": "stdout",
          "text": [
            "Training label distribution: Counter({0: 4027, 1: 4023, 2: 4018, 3: 4016, 4: 4000, 6: 3988, 8: 3987, 5: 3984, 9: 3980, 7: 3977})\n"
          ]
        },
        {
          "output_type": "display_data",
          "data": {
            "text/plain": [
              "<Figure size 800x400 with 1 Axes>"
            ],
            "image/png": "[encoded data removed]"
          },
          "metadata": {}
        },
        {
          "output_type": "stream",
          "name": "stdout",
          "text": [
            "Validation label distribution: Counter({7: 1023, 9: 1020, 5: 1016, 8: 1013, 6: 1012, 4: 1000, 3: 984, 2: 982, 1: 977, 0: 973})\n"
          ]
        },
        {
          "output_type": "display_data",
          "data": {
            "text/plain": [
              "<Figure size 800x400 with 1 Axes>"
            ],
            "image/png": "[encoded data removed]"
          },
          "metadata": {}
        },
        {
          "output_type": "stream",
          "name": "stdout",
          "text": [
            "Testing label distribution: Counter({3: 1000, 8: 1000, 0: 1000, 6: 1000, 1: 1000, 9: 1000, 5: 1000, 7: 1000, 4: 1000, 2: 1000})\n"
          ]
        },
        {
          "output_type": "display_data",
          "data": {
            "text/plain": [
              "<Figure size 800x400 with 1 Axes>"
            ],
            "image/png": "[encoded data removed]"
          },
          "metadata": {}
        }
      ]
    },
    {
      "cell_type": "markdown",
      "source": [
        "The class distribution across training, validation, and testing sets confirms that all digit categories are well represented. While minor variations exist, the overall balance supports fair training and evaluation. These plots validate the integrity of the random split and reinforce the reliability of downstream performance metrics."
      ],
      "metadata": {
        "id": "cvHBc8Cu2RNl"
      }
    },
    {
      "cell_type": "markdown",
      "source": [
        "# Build a CNN Network\n",
        "\n",
        "Build a CNN network with convolution layers to classify the images."
      ],
      "metadata": {
        "id": "kWEGYGufysJZ"
      }
    },
    {
      "cell_type": "markdown",
      "source": [
        "# Implement Sweep Strategy\n",
        "\n",
        "Implement a sweep strategy to find the optimal hyperparameters to maximize accuracy.\n",
        "\n",
        "Systematically vary key hyperparameters - kernel size, stride, batch size, and learning rate - to assess their impact on training loss, validation accuracy, and feature map evolution.  This modular sweep enables principled experimentation, helping identify optimal architecture and training settings for improved model performance and stakeholder clarity."
      ],
      "metadata": {
        "id": "lry-xKlN7acH"
      }
    },
    {
      "cell_type": "markdown",
      "source": [
        "## Create Sweep Grid\n",
        "\n",
        "Create a sweep grid to explore four key hyperparameters that influence CNN performance."
      ],
      "metadata": {
        "id": "0ssq470H8jWS"
      }
    },
    {
      "cell_type": "code",
      "source": [
        "sweep_grid = {'kernel_size': [3],\n",
        "              'stride': [2],\n",
        "              'batch_size': [16],\n",
        "              'learning_rate': [0.001]}"
      ],
      "metadata": {
        "id": "RJllPZZM8Uqk"
      },
      "execution_count": 18,
      "outputs": []
    },
    {
      "cell_type": "markdown",
      "source": [
        "**Kernel size** [3, 5] tests the impact of local versus broader spatial feature extraction.\n",
        "\n",
        "**Stride** [1, 2] assesses how spatial resolution and downsizing effect learning.\n",
        "\n",
        "**Batch size** [32, 64] evaluates gradient stability, generalization, and training efficiency.\n",
        "\n",
        "**Learning rate** [0.001, 0.01] measures convergence speed and sensitivity to weight updates.\n",
        "\n",
        "This grid yields 16 unique configurations (2 * 2 * 2 * 2), each to be trained and evaluated to compare loss, accuracy, and feature map evolution.\n",
        "\n",
        "The goal is to identify the optimal combinations for model performance."
      ],
      "metadata": {
        "id": "n3FM_T0m825w"
      }
    },
    {
      "cell_type": "markdown",
      "source": [
        "## Compute Flattened Size Function\n",
        "\n",
        "Function to compute the current input size for the model.  Use input shape 32 * 32 with three channels."
      ],
      "metadata": {
        "id": "cQ60ADn__AIF"
      }
    },
    {
      "cell_type": "code",
      "source": [
        "def compute_flattened_size(model, input_shape = (3, 32, 32)):\n",
        "  with torch.no_grad():\n",
        "    dummy = torch.zeros(1, *input_shape)\n",
        "    output = model(dummy)\n",
        "    return output.view(1, -1).shape[1]"
      ],
      "metadata": {
        "id": "z2blLsOP_JXg"
      },
      "execution_count": 19,
      "outputs": []
    },
    {
      "cell_type": "markdown",
      "source": [
        "This utility function dynamically computes the flattened output size of a CNN’s feature extractor, given an input shape (defaulting to a 3×32×32 CIFAR-10 image). It’s especially useful when designing the transition from convolutional layers to fully connected layers.\n",
        "\n",
        "It's purpose is to determine the number of features output by the final convolutional layer, so that the first fully connected layer can be correctly sized."
      ],
      "metadata": {
        "id": "2meVLgbr3OJh"
      }
    },
    {
      "cell_type": "markdown",
      "source": [
        "## Create Model Builder\n",
        "\n",
        "This function constructs a configurable CNN architecture for CIFAR-10 classification, enabling systematic variation of kernel size and stride."
      ],
      "metadata": {
        "id": "yf1Ei4_p91rX"
      }
    },
    {
      "cell_type": "code",
      "source": [
        "def build_model(kernel_size, stride):\n",
        "  feature_extractor = nn.Sequential(\n",
        "      nn.Conv2d(3, 6, kernel_size = kernel_size, stride = stride),\n",
        "      nn.ReLU(),\n",
        "      nn.Conv2d(6, 16, kernel_size = kernel_size, stride = stride),\n",
        "      nn.ReLU(),\n",
        "      nn.Flatten()\n",
        "  )\n",
        "\n",
        "  flattened_size = compute_flattened_size(feature_extractor)\n",
        "\n",
        "  return nn.Sequential(\n",
        "      feature_extractor,\n",
        "      nn.Linear(flattened_size, 10),\n",
        "      nn.Softmax(dim = 1)\n",
        "  )"
      ],
      "metadata": {
        "id": "T6ZNzUvi-JO5"
      },
      "execution_count": 20,
      "outputs": []
    },
    {
      "cell_type": "markdown",
      "source": [
        "## Create DataLoader Factory\n",
        "\n",
        "This utility function wraps the creation of PyTorch DataLoader objects for training, validation, and testing datasets, enabling efficient and reproducible batching across sweep configurations."
      ],
      "metadata": {
        "id": "B5Ro0TWj_mTa"
      }
    },
    {
      "cell_type": "code",
      "source": [
        "def create_dataloaders(training_data, validation_data, testing_data, batch_size):\n",
        "  training_loader = DataLoader(training_data, batch_size = batch_size, shuffle = True)\n",
        "  validation_loader = DataLoader(validation_data, batch_size = batch_size, shuffle = False)\n",
        "  testing_loader = DataLoader(testing_data, batch_size = batch_size, shuffle = False)\n",
        "  return training_loader, validation_loader, testing_loader"
      ],
      "metadata": {
        "id": "5wvWTGdD_wEh"
      },
      "execution_count": 21,
      "outputs": []
    },
    {
      "cell_type": "markdown",
      "source": [
        "## Create Train Model Function\n",
        "\n",
        "This function orchestrates the training and validation loop for a CNN on CIFAR-10, logging key diagnostics across epochs to support hyperparameter sweep analysis and stakeholder reporting.\n",
        "\n",
        "### Parameters\n",
        "\n",
        "**model**: CNN architecture returned by build_model(...).\n",
        "\n",
        "**train_loader, val_loader**: DataLoaders for training and validation sets.\n",
        "\n",
        "**learning_rate**: Sweep-controlled optimizer parameter.\n",
        "\n",
        "**epochs**: Number of training epochs (default: 50).\n",
        "\n",
        "### Training Loop\n",
        "\n",
        "Uses Adam optimizer for adaptive learning.\n",
        "\n",
        "Applies CrossEntropyLoss, suitable for multi-class classification.\n",
        "\n",
        "Logs average training loss per epoch for sweep diagnostics.\n",
        "\n",
        "### Validation Accuracy\n",
        "\n",
        "Switches to evaluation mode to disable dropout/batchnorm.\n",
        "\n",
        "Computes validation accuracy as a percentage of correct predictions.\n",
        "\n",
        "### Logging Outputs\n",
        "\n",
        "Returns two lists:\n",
        "\n",
        "**train_loss_log**: Epoch-wise training loss.\n",
        "\n",
        "**val_acc_log**: Epoch-wise validation accuracy.\n",
        "\n",
        "These logs are sweep-aware and plug directly into the visualization pipeline for comparative analysis across kernel size, stride, batch size, and learning rate."
      ],
      "metadata": {
        "id": "U25o_huUARuz"
      }
    },
    {
      "cell_type": "code",
      "source": [
        "def train_model(model, train_loader, val_loader, learning_rate, epochs=50):\n",
        "    criterion = nn.CrossEntropyLoss()\n",
        "    optimizer = torch.optim.Adam(model.parameters(), lr=learning_rate)\n",
        "\n",
        "    train_loss_log = []\n",
        "    val_acc_log = []\n",
        "\n",
        "    for epoch in range(epochs):\n",
        "        model.train()\n",
        "        running_loss = 0.0\n",
        "        for inputs, labels in train_loader:\n",
        "            optimizer.zero_grad()\n",
        "            outputs = model(inputs)\n",
        "            loss = criterion(outputs, labels)\n",
        "            loss.backward()\n",
        "            optimizer.step()\n",
        "            running_loss += loss.item()\n",
        "\n",
        "        avg_train_loss = running_loss / len(train_loader)\n",
        "        train_loss_log.append(avg_train_loss)\n",
        "\n",
        "        # Validation accuracy\n",
        "\n",
        "        model.eval()\n",
        "        correct = 0\n",
        "        total = 0\n",
        "        with torch.no_grad():\n",
        "            for inputs, labels in val_loader:\n",
        "                outputs = model(inputs)\n",
        "                _, predicted = torch.max(outputs.data, 1)\n",
        "                total += labels.size(0)\n",
        "                correct += (predicted == labels).sum().item()\n",
        "\n",
        "        val_acc = 100 * correct / total\n",
        "        val_acc_log.append(val_acc)\n",
        "\n",
        "    return train_loss_log, val_acc_log"
      ],
      "metadata": {
        "id": "2HDSxWV1pDsK"
      },
      "execution_count": 22,
      "outputs": []
    },
    {
      "cell_type": "markdown",
      "source": [
        "## Create Sweep Runner Function\n",
        "\n",
        "This function executes a full hyperparameter sweep across kernel size, stride, batch size, and learning rate, logging training dynamics and final performance metrics for each configuration. It’s the backbone of your diagnostic workflow, enabling reproducible, interpretable experimentation.\n",
        "\n",
        "### Parameters\n",
        "\n",
        "**training_data, validation_data, testing_data**: Preprocessed CIFAR-10 datasets.\n",
        "\n",
        "**sweep_grid**: Dictionary defining the hyperparameter ranges.\n",
        "\n",
        "### Sweep Logic\n",
        "\n",
        "For each combination of hyperparameters:\n",
        "\n",
        "Model Construction: Builds a CNN using build_model(k, s) with specified kernel size and stride.\n",
        "\n",
        "DataLoader Creation: Batches data using create_dataloaders(...) with the current batch size.\n",
        "\n",
        "Training & Logging: Trains the model using train_model(...), logging:\n",
        "\n",
        "Epoch-wise training loss\n",
        "\n",
        "Epoch-wise validation accuracy\n",
        "\n",
        "### Result Storage\n",
        "\n",
        "Final training loss and validation accuracy are stored in results.\n",
        "\n",
        "Full configuration is stored in configs.\n",
        "\n",
        "Per-epoch logs are stored in logs."
      ],
      "metadata": {
        "id": "SvQ52o-MB4kK"
      }
    },
    {
      "cell_type": "code",
      "source": [
        "def run_sweep(training_data, validation_data, testing_data, sweep_grid):\n",
        "    results = []\n",
        "    configs = []\n",
        "    logs = []\n",
        "\n",
        "    for k in sweep_grid[\"kernel_size\"]:\n",
        "        for s in sweep_grid[\"stride\"]:\n",
        "            for b in sweep_grid[\"batch_size\"]:\n",
        "                for lr in sweep_grid[\"learning_rate\"]:\n",
        "                    print(f\"Running: kernel_size = {k}, stride = {s}, batch_size = {b}, learning_rate = {lr}\")\n",
        "\n",
        "                    # Build model\n",
        "\n",
        "                    model = build_model(k, s)\n",
        "\n",
        "                    # Create dataloaders\n",
        "\n",
        "                    training_loader, validation_loader, testing_loader = create_dataloaders(\n",
        "                        training_data, validation_data, testing_data, b\n",
        "                    )\n",
        "\n",
        "                    # Train model and log per-epoch metrics\n",
        "\n",
        "                    train_loss_log, val_acc_log = train_model(\n",
        "                        model, training_loader, validation_loader, lr\n",
        "                    )\n",
        "\n",
        "                    # Store final metrics\n",
        "\n",
        "                    results.append({\n",
        "                        \"kernel_size\": k,\n",
        "                        \"stride\": s,\n",
        "                        \"batch_size\": b,\n",
        "                        \"learning_rate\": lr,\n",
        "                        \"final_loss\": round(train_loss_log[-1], 4),\n",
        "                        \"val_acc\": round(val_acc_log[-1], 2)\n",
        "                    })\n",
        "\n",
        "                    # Store full config and logs for plotting\n",
        "\n",
        "                    configs.append({\n",
        "                        \"kernel_size\": k,\n",
        "                        \"stride\": s,\n",
        "                        \"batch_size\": b,\n",
        "                        \"learning_rate\": lr\n",
        "                    })\n",
        "\n",
        "                    logs.append((train_loss_log, val_acc_log))\n",
        "\n",
        "    return results, configs, logs"
      ],
      "metadata": {
        "id": "-rRGWIxnCEGZ"
      },
      "execution_count": 23,
      "outputs": []
    },
    {
      "cell_type": "markdown",
      "source": [
        "## Create Preview Results Function\n",
        "\n",
        "Display top-performing configurations for quick insight and stakeholder reporting."
      ],
      "metadata": {
        "id": "s5r_bW5gDZSV"
      }
    },
    {
      "cell_type": "code",
      "source": [
        "def preview_results(results, top_n = 10):\n",
        "  df = pd.DataFrame(results)\n",
        "  print(df.sort_values(by = \"val_acc\", ascending = False).head(top_n))"
      ],
      "metadata": {
        "id": "pWjwZDjTDivQ"
      },
      "execution_count": 24,
      "outputs": []
    },
    {
      "cell_type": "markdown",
      "source": [
        "# Run Sweeps"
      ],
      "metadata": {
        "id": "eS-puAysLBRk"
      }
    },
    {
      "cell_type": "code",
      "source": [
        "results, configs, logs = run_sweep(training_data, validation_data, testing_data, sweep_grid)"
      ],
      "metadata": {
        "colab": {
          "base_uri": "https://localhost:8080/",
          "height": 304
        },
        "id": "aMd5c861LC4n",
        "outputId": "5e06a526-43d5-49ef-9687-cb41cfb57076"
      },
      "execution_count": 25,
      "outputs": [
        {
          "output_type": "stream",
          "name": "stdout",
          "text": [
            "Running: kernel_size = 3, stride = 2, batch_size = 16, learning_rate = 0.001\n"
          ]
        },
        {
          "output_type": "error",
          "ename": "KeyboardInterrupt",
          "evalue": "",
          "traceback": [
            "\u001b[0;31m---------------------------------------------------------------------------\u001b[0m",
            "\u001b[0;31mKeyboardInterrupt\u001b[0m                         Traceback (most recent call last)",
            "\u001b[0;32m/tmp/ipython-input-3915103355.py\u001b[0m in \u001b[0;36m<cell line: 0>\u001b[0;34m()\u001b[0m\n\u001b[0;32m----> 1\u001b[0;31m \u001b[0mresults\u001b[0m\u001b[0;34m,\u001b[0m \u001b[0mconfigs\u001b[0m\u001b[0;34m,\u001b[0m \u001b[0mlogs\u001b[0m \u001b[0;34m=\u001b[0m \u001b[0mrun_sweep\u001b[0m\u001b[0;34m(\u001b[0m\u001b[0mtraining_data\u001b[0m\u001b[0;34m,\u001b[0m \u001b[0mvalidation_data\u001b[0m\u001b[0;34m,\u001b[0m \u001b[0mtesting_data\u001b[0m\u001b[0;34m,\u001b[0m \u001b[0msweep_grid\u001b[0m\u001b[0;34m)\u001b[0m\u001b[0;34m\u001b[0m\u001b[0;34m\u001b[0m\u001b[0m\n\u001b[0m",
            "\u001b[0;32m/tmp/ipython-input-3751118748.py\u001b[0m in \u001b[0;36mrun_sweep\u001b[0;34m(training_data, validation_data, testing_data, sweep_grid)\u001b[0m\n\u001b[1;32m     19\u001b[0m \u001b[0;34m\u001b[0m\u001b[0m\n\u001b[1;32m     20\u001b[0m                     \u001b[0;31m# Train model and log per-epoch metrics\u001b[0m\u001b[0;34m\u001b[0m\u001b[0;34m\u001b[0m\u001b[0m\n\u001b[0;32m---> 21\u001b[0;31m                     train_loss_log, val_acc_log = train_model(\n\u001b[0m\u001b[1;32m     22\u001b[0m                         \u001b[0mmodel\u001b[0m\u001b[0;34m,\u001b[0m \u001b[0mtraining_loader\u001b[0m\u001b[0;34m,\u001b[0m \u001b[0mvalidation_loader\u001b[0m\u001b[0;34m,\u001b[0m \u001b[0mlr\u001b[0m\u001b[0;34m\u001b[0m\u001b[0;34m\u001b[0m\u001b[0m\n\u001b[1;32m     23\u001b[0m                     )\n",
            "\u001b[0;32m/tmp/ipython-input-3744613426.py\u001b[0m in \u001b[0;36mtrain_model\u001b[0;34m(model, train_loader, val_loader, learning_rate, epochs)\u001b[0m\n\u001b[1;32m      9\u001b[0m         \u001b[0mmodel\u001b[0m\u001b[0;34m.\u001b[0m\u001b[0mtrain\u001b[0m\u001b[0;34m(\u001b[0m\u001b[0;34m)\u001b[0m\u001b[0;34m\u001b[0m\u001b[0;34m\u001b[0m\u001b[0m\n\u001b[1;32m     10\u001b[0m         \u001b[0mrunning_loss\u001b[0m \u001b[0;34m=\u001b[0m \u001b[0;36m0.0\u001b[0m\u001b[0;34m\u001b[0m\u001b[0;34m\u001b[0m\u001b[0m\n\u001b[0;32m---> 11\u001b[0;31m         \u001b[0;32mfor\u001b[0m \u001b[0minputs\u001b[0m\u001b[0;34m,\u001b[0m \u001b[0mlabels\u001b[0m \u001b[0;32min\u001b[0m \u001b[0mtrain_loader\u001b[0m\u001b[0;34m:\u001b[0m\u001b[0;34m\u001b[0m\u001b[0;34m\u001b[0m\u001b[0m\n\u001b[0m\u001b[1;32m     12\u001b[0m             \u001b[0moptimizer\u001b[0m\u001b[0;34m.\u001b[0m\u001b[0mzero_grad\u001b[0m\u001b[0;34m(\u001b[0m\u001b[0;34m)\u001b[0m\u001b[0;34m\u001b[0m\u001b[0;34m\u001b[0m\u001b[0m\n\u001b[1;32m     13\u001b[0m             \u001b[0moutputs\u001b[0m \u001b[0;34m=\u001b[0m \u001b[0mmodel\u001b[0m\u001b[0;34m(\u001b[0m\u001b[0minputs\u001b[0m\u001b[0;34m)\u001b[0m\u001b[0;34m\u001b[0m\u001b[0;34m\u001b[0m\u001b[0m\n",
            "\u001b[0;32m/usr/local/lib/python3.12/dist-packages/torch/utils/data/dataloader.py\u001b[0m in \u001b[0;36m__next__\u001b[0;34m(self)\u001b[0m\n\u001b[1;32m    732\u001b[0m                 \u001b[0;31m# TODO(https://github.com/pytorch/pytorch/issues/76750)\u001b[0m\u001b[0;34m\u001b[0m\u001b[0;34m\u001b[0m\u001b[0m\n\u001b[1;32m    733\u001b[0m                 \u001b[0mself\u001b[0m\u001b[0;34m.\u001b[0m\u001b[0m_reset\u001b[0m\u001b[0;34m(\u001b[0m\u001b[0;34m)\u001b[0m  \u001b[0;31m# type: ignore[call-arg]\u001b[0m\u001b[0;34m\u001b[0m\u001b[0;34m\u001b[0m\u001b[0m\n\u001b[0;32m--> 734\u001b[0;31m             \u001b[0mdata\u001b[0m \u001b[0;34m=\u001b[0m \u001b[0mself\u001b[0m\u001b[0;34m.\u001b[0m\u001b[0m_next_data\u001b[0m\u001b[0;34m(\u001b[0m\u001b[0;34m)\u001b[0m\u001b[0;34m\u001b[0m\u001b[0;34m\u001b[0m\u001b[0m\n\u001b[0m\u001b[1;32m    735\u001b[0m             \u001b[0mself\u001b[0m\u001b[0;34m.\u001b[0m\u001b[0m_num_yielded\u001b[0m \u001b[0;34m+=\u001b[0m \u001b[0;36m1\u001b[0m\u001b[0;34m\u001b[0m\u001b[0;34m\u001b[0m\u001b[0m\n\u001b[1;32m    736\u001b[0m             if (\n",
            "\u001b[0;32m/usr/local/lib/python3.12/dist-packages/torch/utils/data/dataloader.py\u001b[0m in \u001b[0;36m_next_data\u001b[0;34m(self)\u001b[0m\n\u001b[1;32m    788\u001b[0m     \u001b[0;32mdef\u001b[0m \u001b[0m_next_data\u001b[0m\u001b[0;34m(\u001b[0m\u001b[0mself\u001b[0m\u001b[0;34m)\u001b[0m\u001b[0;34m:\u001b[0m\u001b[0;34m\u001b[0m\u001b[0;34m\u001b[0m\u001b[0m\n\u001b[1;32m    789\u001b[0m         \u001b[0mindex\u001b[0m \u001b[0;34m=\u001b[0m \u001b[0mself\u001b[0m\u001b[0;34m.\u001b[0m\u001b[0m_next_index\u001b[0m\u001b[0;34m(\u001b[0m\u001b[0;34m)\u001b[0m  \u001b[0;31m# may raise StopIteration\u001b[0m\u001b[0;34m\u001b[0m\u001b[0;34m\u001b[0m\u001b[0m\n\u001b[0;32m--> 790\u001b[0;31m         \u001b[0mdata\u001b[0m \u001b[0;34m=\u001b[0m \u001b[0mself\u001b[0m\u001b[0;34m.\u001b[0m\u001b[0m_dataset_fetcher\u001b[0m\u001b[0;34m.\u001b[0m\u001b[0mfetch\u001b[0m\u001b[0;34m(\u001b[0m\u001b[0mindex\u001b[0m\u001b[0;34m)\u001b[0m  \u001b[0;31m# may raise StopIteration\u001b[0m\u001b[0;34m\u001b[0m\u001b[0;34m\u001b[0m\u001b[0m\n\u001b[0m\u001b[1;32m    791\u001b[0m         \u001b[0;32mif\u001b[0m \u001b[0mself\u001b[0m\u001b[0;34m.\u001b[0m\u001b[0m_pin_memory\u001b[0m\u001b[0;34m:\u001b[0m\u001b[0;34m\u001b[0m\u001b[0;34m\u001b[0m\u001b[0m\n\u001b[1;32m    792\u001b[0m             \u001b[0mdata\u001b[0m \u001b[0;34m=\u001b[0m \u001b[0m_utils\u001b[0m\u001b[0;34m.\u001b[0m\u001b[0mpin_memory\u001b[0m\u001b[0;34m.\u001b[0m\u001b[0mpin_memory\u001b[0m\u001b[0;34m(\u001b[0m\u001b[0mdata\u001b[0m\u001b[0;34m,\u001b[0m \u001b[0mself\u001b[0m\u001b[0;34m.\u001b[0m\u001b[0m_pin_memory_device\u001b[0m\u001b[0;34m)\u001b[0m\u001b[0;34m\u001b[0m\u001b[0;34m\u001b[0m\u001b[0m\n",
            "\u001b[0;32m/usr/local/lib/python3.12/dist-packages/torch/utils/data/_utils/fetch.py\u001b[0m in \u001b[0;36mfetch\u001b[0;34m(self, possibly_batched_index)\u001b[0m\n\u001b[1;32m     48\u001b[0m         \u001b[0;32mif\u001b[0m \u001b[0mself\u001b[0m\u001b[0;34m.\u001b[0m\u001b[0mauto_collation\u001b[0m\u001b[0;34m:\u001b[0m\u001b[0;34m\u001b[0m\u001b[0;34m\u001b[0m\u001b[0m\n\u001b[1;32m     49\u001b[0m             \u001b[0;32mif\u001b[0m \u001b[0mhasattr\u001b[0m\u001b[0;34m(\u001b[0m\u001b[0mself\u001b[0m\u001b[0;34m.\u001b[0m\u001b[0mdataset\u001b[0m\u001b[0;34m,\u001b[0m \u001b[0;34m\"__getitems__\"\u001b[0m\u001b[0;34m)\u001b[0m \u001b[0;32mand\u001b[0m \u001b[0mself\u001b[0m\u001b[0;34m.\u001b[0m\u001b[0mdataset\u001b[0m\u001b[0;34m.\u001b[0m\u001b[0m__getitems__\u001b[0m\u001b[0;34m:\u001b[0m\u001b[0;34m\u001b[0m\u001b[0;34m\u001b[0m\u001b[0m\n\u001b[0;32m---> 50\u001b[0;31m                 \u001b[0mdata\u001b[0m \u001b[0;34m=\u001b[0m \u001b[0mself\u001b[0m\u001b[0;34m.\u001b[0m\u001b[0mdataset\u001b[0m\u001b[0;34m.\u001b[0m\u001b[0m__getitems__\u001b[0m\u001b[0;34m(\u001b[0m\u001b[0mpossibly_batched_index\u001b[0m\u001b[0;34m)\u001b[0m\u001b[0;34m\u001b[0m\u001b[0;34m\u001b[0m\u001b[0m\n\u001b[0m\u001b[1;32m     51\u001b[0m             \u001b[0;32melse\u001b[0m\u001b[0;34m:\u001b[0m\u001b[0;34m\u001b[0m\u001b[0;34m\u001b[0m\u001b[0m\n\u001b[1;32m     52\u001b[0m                 \u001b[0mdata\u001b[0m \u001b[0;34m=\u001b[0m \u001b[0;34m[\u001b[0m\u001b[0mself\u001b[0m\u001b[0;34m.\u001b[0m\u001b[0mdataset\u001b[0m\u001b[0;34m[\u001b[0m\u001b[0midx\u001b[0m\u001b[0;34m]\u001b[0m \u001b[0;32mfor\u001b[0m \u001b[0midx\u001b[0m \u001b[0;32min\u001b[0m \u001b[0mpossibly_batched_index\u001b[0m\u001b[0;34m]\u001b[0m\u001b[0;34m\u001b[0m\u001b[0;34m\u001b[0m\u001b[0m\n",
            "\u001b[0;32m/usr/local/lib/python3.12/dist-packages/torch/utils/data/dataset.py\u001b[0m in \u001b[0;36m__getitems__\u001b[0;34m(self, indices)\u001b[0m\n\u001b[1;32m    414\u001b[0m             \u001b[0;32mreturn\u001b[0m \u001b[0mself\u001b[0m\u001b[0;34m.\u001b[0m\u001b[0mdataset\u001b[0m\u001b[0;34m.\u001b[0m\u001b[0m__getitems__\u001b[0m\u001b[0;34m(\u001b[0m\u001b[0;34m[\u001b[0m\u001b[0mself\u001b[0m\u001b[0;34m.\u001b[0m\u001b[0mindices\u001b[0m\u001b[0;34m[\u001b[0m\u001b[0midx\u001b[0m\u001b[0;34m]\u001b[0m \u001b[0;32mfor\u001b[0m \u001b[0midx\u001b[0m \u001b[0;32min\u001b[0m \u001b[0mindices\u001b[0m\u001b[0;34m]\u001b[0m\u001b[0;34m)\u001b[0m  \u001b[0;31m# type: ignore[attr-defined]\u001b[0m\u001b[0;34m\u001b[0m\u001b[0;34m\u001b[0m\u001b[0m\n\u001b[1;32m    415\u001b[0m         \u001b[0;32melse\u001b[0m\u001b[0;34m:\u001b[0m\u001b[0;34m\u001b[0m\u001b[0;34m\u001b[0m\u001b[0m\n\u001b[0;32m--> 416\u001b[0;31m             \u001b[0;32mreturn\u001b[0m \u001b[0;34m[\u001b[0m\u001b[0mself\u001b[0m\u001b[0;34m.\u001b[0m\u001b[0mdataset\u001b[0m\u001b[0;34m[\u001b[0m\u001b[0mself\u001b[0m\u001b[0;34m.\u001b[0m\u001b[0mindices\u001b[0m\u001b[0;34m[\u001b[0m\u001b[0midx\u001b[0m\u001b[0;34m]\u001b[0m\u001b[0;34m]\u001b[0m \u001b[0;32mfor\u001b[0m \u001b[0midx\u001b[0m \u001b[0;32min\u001b[0m \u001b[0mindices\u001b[0m\u001b[0;34m]\u001b[0m\u001b[0;34m\u001b[0m\u001b[0;34m\u001b[0m\u001b[0m\n\u001b[0m\u001b[1;32m    417\u001b[0m \u001b[0;34m\u001b[0m\u001b[0m\n\u001b[1;32m    418\u001b[0m     \u001b[0;32mdef\u001b[0m \u001b[0m__len__\u001b[0m\u001b[0;34m(\u001b[0m\u001b[0mself\u001b[0m\u001b[0;34m)\u001b[0m\u001b[0;34m:\u001b[0m\u001b[0;34m\u001b[0m\u001b[0;34m\u001b[0m\u001b[0m\n",
            "\u001b[0;32m/usr/local/lib/python3.12/dist-packages/torchvision/datasets/cifar.py\u001b[0m in \u001b[0;36m__getitem__\u001b[0;34m(self, index)\u001b[0m\n\u001b[1;32m    117\u001b[0m \u001b[0;34m\u001b[0m\u001b[0m\n\u001b[1;32m    118\u001b[0m         \u001b[0;32mif\u001b[0m \u001b[0mself\u001b[0m\u001b[0;34m.\u001b[0m\u001b[0mtransform\u001b[0m \u001b[0;32mis\u001b[0m \u001b[0;32mnot\u001b[0m \u001b[0;32mNone\u001b[0m\u001b[0;34m:\u001b[0m\u001b[0;34m\u001b[0m\u001b[0;34m\u001b[0m\u001b[0m\n\u001b[0;32m--> 119\u001b[0;31m             \u001b[0mimg\u001b[0m \u001b[0;34m=\u001b[0m \u001b[0mself\u001b[0m\u001b[0;34m.\u001b[0m\u001b[0mtransform\u001b[0m\u001b[0;34m(\u001b[0m\u001b[0mimg\u001b[0m\u001b[0;34m)\u001b[0m\u001b[0;34m\u001b[0m\u001b[0;34m\u001b[0m\u001b[0m\n\u001b[0m\u001b[1;32m    120\u001b[0m \u001b[0;34m\u001b[0m\u001b[0m\n\u001b[1;32m    121\u001b[0m         \u001b[0;32mif\u001b[0m \u001b[0mself\u001b[0m\u001b[0;34m.\u001b[0m\u001b[0mtarget_transform\u001b[0m \u001b[0;32mis\u001b[0m \u001b[0;32mnot\u001b[0m \u001b[0;32mNone\u001b[0m\u001b[0;34m:\u001b[0m\u001b[0;34m\u001b[0m\u001b[0;34m\u001b[0m\u001b[0m\n",
            "\u001b[0;32m/usr/local/lib/python3.12/dist-packages/torchvision/transforms/transforms.py\u001b[0m in \u001b[0;36m__call__\u001b[0;34m(self, img)\u001b[0m\n\u001b[1;32m     93\u001b[0m     \u001b[0;32mdef\u001b[0m \u001b[0m__call__\u001b[0m\u001b[0;34m(\u001b[0m\u001b[0mself\u001b[0m\u001b[0;34m,\u001b[0m \u001b[0mimg\u001b[0m\u001b[0;34m)\u001b[0m\u001b[0;34m:\u001b[0m\u001b[0;34m\u001b[0m\u001b[0;34m\u001b[0m\u001b[0m\n\u001b[1;32m     94\u001b[0m         \u001b[0;32mfor\u001b[0m \u001b[0mt\u001b[0m \u001b[0;32min\u001b[0m \u001b[0mself\u001b[0m\u001b[0;34m.\u001b[0m\u001b[0mtransforms\u001b[0m\u001b[0;34m:\u001b[0m\u001b[0;34m\u001b[0m\u001b[0;34m\u001b[0m\u001b[0m\n\u001b[0;32m---> 95\u001b[0;31m             \u001b[0mimg\u001b[0m \u001b[0;34m=\u001b[0m \u001b[0mt\u001b[0m\u001b[0;34m(\u001b[0m\u001b[0mimg\u001b[0m\u001b[0;34m)\u001b[0m\u001b[0;34m\u001b[0m\u001b[0;34m\u001b[0m\u001b[0m\n\u001b[0m\u001b[1;32m     96\u001b[0m         \u001b[0;32mreturn\u001b[0m \u001b[0mimg\u001b[0m\u001b[0;34m\u001b[0m\u001b[0;34m\u001b[0m\u001b[0m\n\u001b[1;32m     97\u001b[0m \u001b[0;34m\u001b[0m\u001b[0m\n",
            "\u001b[0;32m/usr/local/lib/python3.12/dist-packages/torch/nn/modules/module.py\u001b[0m in \u001b[0;36m_wrapped_call_impl\u001b[0;34m(self, *args, **kwargs)\u001b[0m\n\u001b[1;32m   1771\u001b[0m             \u001b[0;32mreturn\u001b[0m \u001b[0mself\u001b[0m\u001b[0;34m.\u001b[0m\u001b[0m_compiled_call_impl\u001b[0m\u001b[0;34m(\u001b[0m\u001b[0;34m*\u001b[0m\u001b[0margs\u001b[0m\u001b[0;34m,\u001b[0m \u001b[0;34m**\u001b[0m\u001b[0mkwargs\u001b[0m\u001b[0;34m)\u001b[0m  \u001b[0;31m# type: ignore[misc]\u001b[0m\u001b[0;34m\u001b[0m\u001b[0;34m\u001b[0m\u001b[0m\n\u001b[1;32m   1772\u001b[0m         \u001b[0;32melse\u001b[0m\u001b[0;34m:\u001b[0m\u001b[0;34m\u001b[0m\u001b[0;34m\u001b[0m\u001b[0m\n\u001b[0;32m-> 1773\u001b[0;31m             \u001b[0;32mreturn\u001b[0m \u001b[0mself\u001b[0m\u001b[0;34m.\u001b[0m\u001b[0m_call_impl\u001b[0m\u001b[0;34m(\u001b[0m\u001b[0;34m*\u001b[0m\u001b[0margs\u001b[0m\u001b[0;34m,\u001b[0m \u001b[0;34m**\u001b[0m\u001b[0mkwargs\u001b[0m\u001b[0;34m)\u001b[0m\u001b[0;34m\u001b[0m\u001b[0;34m\u001b[0m\u001b[0m\n\u001b[0m\u001b[1;32m   1774\u001b[0m \u001b[0;34m\u001b[0m\u001b[0m\n\u001b[1;32m   1775\u001b[0m     \u001b[0;31m# torchrec tests the code consistency with the following code\u001b[0m\u001b[0;34m\u001b[0m\u001b[0;34m\u001b[0m\u001b[0m\n",
            "\u001b[0;32m/usr/local/lib/python3.12/dist-packages/torch/nn/modules/module.py\u001b[0m in \u001b[0;36m_call_impl\u001b[0;34m(self, *args, **kwargs)\u001b[0m\n\u001b[1;32m   1782\u001b[0m                 \u001b[0;32mor\u001b[0m \u001b[0m_global_backward_pre_hooks\u001b[0m \u001b[0;32mor\u001b[0m \u001b[0m_global_backward_hooks\u001b[0m\u001b[0;34m\u001b[0m\u001b[0;34m\u001b[0m\u001b[0m\n\u001b[1;32m   1783\u001b[0m                 or _global_forward_hooks or _global_forward_pre_hooks):\n\u001b[0;32m-> 1784\u001b[0;31m             \u001b[0;32mreturn\u001b[0m \u001b[0mforward_call\u001b[0m\u001b[0;34m(\u001b[0m\u001b[0;34m*\u001b[0m\u001b[0margs\u001b[0m\u001b[0;34m,\u001b[0m \u001b[0;34m**\u001b[0m\u001b[0mkwargs\u001b[0m\u001b[0;34m)\u001b[0m\u001b[0;34m\u001b[0m\u001b[0;34m\u001b[0m\u001b[0m\n\u001b[0m\u001b[1;32m   1785\u001b[0m \u001b[0;34m\u001b[0m\u001b[0m\n\u001b[1;32m   1786\u001b[0m         \u001b[0mresult\u001b[0m \u001b[0;34m=\u001b[0m \u001b[0;32mNone\u001b[0m\u001b[0;34m\u001b[0m\u001b[0;34m\u001b[0m\u001b[0m\n",
            "\u001b[0;32m/usr/local/lib/python3.12/dist-packages/torchvision/transforms/transforms.py\u001b[0m in \u001b[0;36mforward\u001b[0;34m(self, img)\u001b[0m\n\u001b[1;32m    710\u001b[0m             \u001b[0mPIL\u001b[0m \u001b[0mImage\u001b[0m \u001b[0;32mor\u001b[0m \u001b[0mTensor\u001b[0m\u001b[0;34m:\u001b[0m \u001b[0mRandomly\u001b[0m \u001b[0mflipped\u001b[0m \u001b[0mimage\u001b[0m\u001b[0;34m.\u001b[0m\u001b[0;34m\u001b[0m\u001b[0;34m\u001b[0m\u001b[0m\n\u001b[1;32m    711\u001b[0m         \"\"\"\n\u001b[0;32m--> 712\u001b[0;31m         \u001b[0;32mif\u001b[0m \u001b[0mtorch\u001b[0m\u001b[0;34m.\u001b[0m\u001b[0mrand\u001b[0m\u001b[0;34m(\u001b[0m\u001b[0;36m1\u001b[0m\u001b[0;34m)\u001b[0m \u001b[0;34m<\u001b[0m \u001b[0mself\u001b[0m\u001b[0;34m.\u001b[0m\u001b[0mp\u001b[0m\u001b[0;34m:\u001b[0m\u001b[0;34m\u001b[0m\u001b[0;34m\u001b[0m\u001b[0m\n\u001b[0m\u001b[1;32m    713\u001b[0m             \u001b[0;32mreturn\u001b[0m \u001b[0mF\u001b[0m\u001b[0;34m.\u001b[0m\u001b[0mhflip\u001b[0m\u001b[0;34m(\u001b[0m\u001b[0mimg\u001b[0m\u001b[0;34m)\u001b[0m\u001b[0;34m\u001b[0m\u001b[0;34m\u001b[0m\u001b[0m\n\u001b[1;32m    714\u001b[0m         \u001b[0;32mreturn\u001b[0m \u001b[0mimg\u001b[0m\u001b[0;34m\u001b[0m\u001b[0;34m\u001b[0m\u001b[0m\n",
            "\u001b[0;31mKeyboardInterrupt\u001b[0m: "
          ]
        }
      ]
    },
    {
      "cell_type": "markdown",
      "source": [
        "# Preview Sweep Results\n",
        "\n"
      ],
      "metadata": {
        "id": "gfgZ8ZiyLWwT"
      }
    },
    {
      "cell_type": "code",
      "source": [
        "preview_results(results)"
      ],
      "metadata": {
        "colab": {
          "base_uri": "https://localhost:8080/"
        },
        "id": "XEzP5EkH5J2h",
        "outputId": "62f59b5b-d3fc-4950-e0a5-d29cec8ac7d0"
      },
      "execution_count": null,
      "outputs": [
        {
          "output_type": "stream",
          "name": "stdout",
          "text": [
            "   kernel_size  stride  batch_size  learning_rate  final_loss  val_acc\n",
            "0            3       2          16          0.001      1.9556     48.6\n"
          ]
        }
      ]
    },
    {
      "cell_type": "markdown",
      "source": [
        "# Plot Training Curves\n",
        "\n"
      ],
      "metadata": {
        "id": "7F6zIDkDpJu1"
      }
    },
    {
      "cell_type": "code",
      "source": [
        "import matplotlib.pyplot as plt\n",
        "\n",
        "def plot_training_curves(configs, logs):\n",
        "    for i, (loss_log, acc_log) in enumerate(logs):\n",
        "        plt.figure(figsize=(12, 4))\n",
        "\n",
        "        # Loss curve\n",
        "        plt.subplot(1, 2, 1)\n",
        "        plt.plot(loss_log, label=f\"Config {i}\")\n",
        "        plt.title(\"Training Loss\")\n",
        "        plt.xlabel(\"Epoch\")\n",
        "        plt.ylabel(\"Loss\")\n",
        "        plt.legend()\n",
        "\n",
        "        # Accuracy curve\n",
        "        plt.subplot(1, 2, 2)\n",
        "        plt.plot(acc_log, label=f\"Config {i}\")\n",
        "        plt.title(\"Validation Accuracy\")\n",
        "        plt.xlabel(\"Epoch\")\n",
        "        plt.ylabel(\"Accuracy (%)\")\n",
        "        plt.legend()\n",
        "\n",
        "        plt.suptitle(f\"Training Dynamics for Config {i}: {configs[i]}\")\n",
        "        plt.tight_layout()\n",
        "        plt.show()"
      ],
      "metadata": {
        "id": "PO2NwofOpMWG"
      },
      "execution_count": null,
      "outputs": []
    },
    {
      "cell_type": "code",
      "source": [
        "plot_training_curves(configs, logs)"
      ],
      "metadata": {
        "colab": {
          "base_uri": "https://localhost:8080/",
          "height": 413
        },
        "id": "hVgn9_th8R5A",
        "outputId": "858bf528-34eb-48ac-d16f-83fa7aa46f70"
      },
      "execution_count": null,
      "outputs": [
        {
          "output_type": "display_data",
          "data": {
            "text/plain": [
              "<Figure size 1200x400 with 2 Axes>"
            ],
            "image/png": "[encoded data removed]"
          },
          "metadata": {}
        }
      ]
    }
  ]
}